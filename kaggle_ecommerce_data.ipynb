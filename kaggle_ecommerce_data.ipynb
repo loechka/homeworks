{
 "metadata": {
  "language_info": {
   "codemirror_mode": {
    "name": "ipython",
    "version": 3
   },
   "file_extension": ".py",
   "mimetype": "text/x-python",
   "name": "python",
   "nbconvert_exporter": "python",
   "pygments_lexer": "ipython3",
   "version": "3.7.3-final"
  },
  "orig_nbformat": 2,
  "kernelspec": {
   "name": "python3",
   "display_name": "Python 3",
   "language": "python"
  }
 },
 "nbformat": 4,
 "nbformat_minor": 2,
 "cells": [
  {
   "source": [
    "Загрузка"
   ],
   "cell_type": "markdown",
   "metadata": {}
  },
  {
   "cell_type": "code",
   "execution_count": 1,
   "metadata": {},
   "outputs": [],
   "source": [
    "import pandas as pd\n",
    "import numpy as np"
   ]
  },
  {
   "cell_type": "code",
   "execution_count": 2,
   "metadata": {},
   "outputs": [
    {
     "output_type": "stream",
     "name": "stdout",
     "text": [
      "3.29.0\n"
     ]
    }
   ],
   "source": [
    "import sqlite3\n",
    "print(sqlite3.sqlite_version)"
   ]
  },
  {
   "cell_type": "code",
   "execution_count": 3,
   "metadata": {},
   "outputs": [],
   "source": [
    "data = pd.read_csv('/Users/annie/github/kaggle_ecommerce_data.csv', encoding='cp1252')"
   ]
  },
  {
   "cell_type": "code",
   "execution_count": 61,
   "metadata": {},
   "outputs": [
    {
     "output_type": "execute_result",
     "data": {
      "text/plain": [
       "       InvoiceNo StockCode                          Description  Quantity  \\\n",
       "541884    581585     84946         ANTIQUE SILVER T-LIGHT GLASS        12   \n",
       "541885    581585     21684     SMALL MEDINA STAMPED METAL BOWL         12   \n",
       "541886    581585     22398           MAGNETS PACK OF 4 SWALLOWS        12   \n",
       "541887    581585     23328   SET 6 SCHOOL MILK BOTTLES IN CRATE         4   \n",
       "541888    581585     23145       ZINC T-LIGHT HOLDER STAR LARGE        12   \n",
       "541889    581585     22466       FAIRY TALE COTTAGE NIGHT LIGHT        12   \n",
       "541890    581586     22061  LARGE CAKE STAND  HANGING STRAWBERY         8   \n",
       "541891    581586     23275     SET OF 3 HANGING OWLS OLLIE BEAK        24   \n",
       "541892    581586     21217        RED RETROSPOT ROUND CAKE TINS        24   \n",
       "541893    581586     20685                DOORMAT RED RETROSPOT        10   \n",
       "541894    581587     22631             CIRCUS PARADE LUNCH BOX         12   \n",
       "541895    581587     22556       PLASTERS IN TIN CIRCUS PARADE         12   \n",
       "541896    581587     22555            PLASTERS IN TIN STRONGMAN        12   \n",
       "541897    581587     22728            ALARM CLOCK BAKELIKE PINK         4   \n",
       "541898    581587     22727            ALARM CLOCK BAKELIKE RED          4   \n",
       "541899    581587     22726           ALARM CLOCK BAKELIKE GREEN         4   \n",
       "541900    581587     22730           ALARM CLOCK BAKELIKE IVORY         4   \n",
       "541901    581587     22367      CHILDRENS APRON SPACEBOY DESIGN         8   \n",
       "541902    581587     22629                  SPACEBOY LUNCH BOX         12   \n",
       "541903    581587     23256          CHILDRENS CUTLERY SPACEBOY          4   \n",
       "541904    581587     22613          PACK OF 20 SPACEBOY NAPKINS        12   \n",
       "541905    581587     22899         CHILDREN'S APRON DOLLY GIRL          6   \n",
       "541906    581587     23254        CHILDRENS CUTLERY DOLLY GIRL          4   \n",
       "541907    581587     23255      CHILDRENS CUTLERY CIRCUS PARADE         4   \n",
       "541908    581587     22138        BAKING SET 9 PIECE RETROSPOT          3   \n",
       "\n",
       "               InvoiceDate  UnitPrice  CustomerID         Country  \n",
       "541884 2011-12-09 12:31:00       1.25     15804.0  United Kingdom  \n",
       "541885 2011-12-09 12:31:00       0.85     15804.0  United Kingdom  \n",
       "541886 2011-12-09 12:31:00       0.39     15804.0  United Kingdom  \n",
       "541887 2011-12-09 12:31:00       3.75     15804.0  United Kingdom  \n",
       "541888 2011-12-09 12:31:00       0.95     15804.0  United Kingdom  \n",
       "541889 2011-12-09 12:31:00       1.95     15804.0  United Kingdom  \n",
       "541890 2011-12-09 12:49:00       2.95     13113.0  United Kingdom  \n",
       "541891 2011-12-09 12:49:00       1.25     13113.0  United Kingdom  \n",
       "541892 2011-12-09 12:49:00       8.95     13113.0  United Kingdom  \n",
       "541893 2011-12-09 12:49:00       7.08     13113.0  United Kingdom  \n",
       "541894 2011-12-09 12:50:00       1.95     12680.0          France  \n",
       "541895 2011-12-09 12:50:00       1.65     12680.0          France  \n",
       "541896 2011-12-09 12:50:00       1.65     12680.0          France  \n",
       "541897 2011-12-09 12:50:00       3.75     12680.0          France  \n",
       "541898 2011-12-09 12:50:00       3.75     12680.0          France  \n",
       "541899 2011-12-09 12:50:00       3.75     12680.0          France  \n",
       "541900 2011-12-09 12:50:00       3.75     12680.0          France  \n",
       "541901 2011-12-09 12:50:00       1.95     12680.0          France  \n",
       "541902 2011-12-09 12:50:00       1.95     12680.0          France  \n",
       "541903 2011-12-09 12:50:00       4.15     12680.0          France  \n",
       "541904 2011-12-09 12:50:00       0.85     12680.0          France  \n",
       "541905 2011-12-09 12:50:00       2.10     12680.0          France  \n",
       "541906 2011-12-09 12:50:00       4.15     12680.0          France  \n",
       "541907 2011-12-09 12:50:00       4.15     12680.0          France  \n",
       "541908 2011-12-09 12:50:00       4.95     12680.0          France  "
      ],
      "text/html": "<div>\n<style scoped>\n    .dataframe tbody tr th:only-of-type {\n        vertical-align: middle;\n    }\n\n    .dataframe tbody tr th {\n        vertical-align: top;\n    }\n\n    .dataframe thead th {\n        text-align: right;\n    }\n</style>\n<table border=\"1\" class=\"dataframe\">\n  <thead>\n    <tr style=\"text-align: right;\">\n      <th></th>\n      <th>InvoiceNo</th>\n      <th>StockCode</th>\n      <th>Description</th>\n      <th>Quantity</th>\n      <th>InvoiceDate</th>\n      <th>UnitPrice</th>\n      <th>CustomerID</th>\n      <th>Country</th>\n    </tr>\n  </thead>\n  <tbody>\n    <tr>\n      <th>541884</th>\n      <td>581585</td>\n      <td>84946</td>\n      <td>ANTIQUE SILVER T-LIGHT GLASS</td>\n      <td>12</td>\n      <td>2011-12-09 12:31:00</td>\n      <td>1.25</td>\n      <td>15804.0</td>\n      <td>United Kingdom</td>\n    </tr>\n    <tr>\n      <th>541885</th>\n      <td>581585</td>\n      <td>21684</td>\n      <td>SMALL MEDINA STAMPED METAL BOWL</td>\n      <td>12</td>\n      <td>2011-12-09 12:31:00</td>\n      <td>0.85</td>\n      <td>15804.0</td>\n      <td>United Kingdom</td>\n    </tr>\n    <tr>\n      <th>541886</th>\n      <td>581585</td>\n      <td>22398</td>\n      <td>MAGNETS PACK OF 4 SWALLOWS</td>\n      <td>12</td>\n      <td>2011-12-09 12:31:00</td>\n      <td>0.39</td>\n      <td>15804.0</td>\n      <td>United Kingdom</td>\n    </tr>\n    <tr>\n      <th>541887</th>\n      <td>581585</td>\n      <td>23328</td>\n      <td>SET 6 SCHOOL MILK BOTTLES IN CRATE</td>\n      <td>4</td>\n      <td>2011-12-09 12:31:00</td>\n      <td>3.75</td>\n      <td>15804.0</td>\n      <td>United Kingdom</td>\n    </tr>\n    <tr>\n      <th>541888</th>\n      <td>581585</td>\n      <td>23145</td>\n      <td>ZINC T-LIGHT HOLDER STAR LARGE</td>\n      <td>12</td>\n      <td>2011-12-09 12:31:00</td>\n      <td>0.95</td>\n      <td>15804.0</td>\n      <td>United Kingdom</td>\n    </tr>\n    <tr>\n      <th>541889</th>\n      <td>581585</td>\n      <td>22466</td>\n      <td>FAIRY TALE COTTAGE NIGHT LIGHT</td>\n      <td>12</td>\n      <td>2011-12-09 12:31:00</td>\n      <td>1.95</td>\n      <td>15804.0</td>\n      <td>United Kingdom</td>\n    </tr>\n    <tr>\n      <th>541890</th>\n      <td>581586</td>\n      <td>22061</td>\n      <td>LARGE CAKE STAND  HANGING STRAWBERY</td>\n      <td>8</td>\n      <td>2011-12-09 12:49:00</td>\n      <td>2.95</td>\n      <td>13113.0</td>\n      <td>United Kingdom</td>\n    </tr>\n    <tr>\n      <th>541891</th>\n      <td>581586</td>\n      <td>23275</td>\n      <td>SET OF 3 HANGING OWLS OLLIE BEAK</td>\n      <td>24</td>\n      <td>2011-12-09 12:49:00</td>\n      <td>1.25</td>\n      <td>13113.0</td>\n      <td>United Kingdom</td>\n    </tr>\n    <tr>\n      <th>541892</th>\n      <td>581586</td>\n      <td>21217</td>\n      <td>RED RETROSPOT ROUND CAKE TINS</td>\n      <td>24</td>\n      <td>2011-12-09 12:49:00</td>\n      <td>8.95</td>\n      <td>13113.0</td>\n      <td>United Kingdom</td>\n    </tr>\n    <tr>\n      <th>541893</th>\n      <td>581586</td>\n      <td>20685</td>\n      <td>DOORMAT RED RETROSPOT</td>\n      <td>10</td>\n      <td>2011-12-09 12:49:00</td>\n      <td>7.08</td>\n      <td>13113.0</td>\n      <td>United Kingdom</td>\n    </tr>\n    <tr>\n      <th>541894</th>\n      <td>581587</td>\n      <td>22631</td>\n      <td>CIRCUS PARADE LUNCH BOX</td>\n      <td>12</td>\n      <td>2011-12-09 12:50:00</td>\n      <td>1.95</td>\n      <td>12680.0</td>\n      <td>France</td>\n    </tr>\n    <tr>\n      <th>541895</th>\n      <td>581587</td>\n      <td>22556</td>\n      <td>PLASTERS IN TIN CIRCUS PARADE</td>\n      <td>12</td>\n      <td>2011-12-09 12:50:00</td>\n      <td>1.65</td>\n      <td>12680.0</td>\n      <td>France</td>\n    </tr>\n    <tr>\n      <th>541896</th>\n      <td>581587</td>\n      <td>22555</td>\n      <td>PLASTERS IN TIN STRONGMAN</td>\n      <td>12</td>\n      <td>2011-12-09 12:50:00</td>\n      <td>1.65</td>\n      <td>12680.0</td>\n      <td>France</td>\n    </tr>\n    <tr>\n      <th>541897</th>\n      <td>581587</td>\n      <td>22728</td>\n      <td>ALARM CLOCK BAKELIKE PINK</td>\n      <td>4</td>\n      <td>2011-12-09 12:50:00</td>\n      <td>3.75</td>\n      <td>12680.0</td>\n      <td>France</td>\n    </tr>\n    <tr>\n      <th>541898</th>\n      <td>581587</td>\n      <td>22727</td>\n      <td>ALARM CLOCK BAKELIKE RED</td>\n      <td>4</td>\n      <td>2011-12-09 12:50:00</td>\n      <td>3.75</td>\n      <td>12680.0</td>\n      <td>France</td>\n    </tr>\n    <tr>\n      <th>541899</th>\n      <td>581587</td>\n      <td>22726</td>\n      <td>ALARM CLOCK BAKELIKE GREEN</td>\n      <td>4</td>\n      <td>2011-12-09 12:50:00</td>\n      <td>3.75</td>\n      <td>12680.0</td>\n      <td>France</td>\n    </tr>\n    <tr>\n      <th>541900</th>\n      <td>581587</td>\n      <td>22730</td>\n      <td>ALARM CLOCK BAKELIKE IVORY</td>\n      <td>4</td>\n      <td>2011-12-09 12:50:00</td>\n      <td>3.75</td>\n      <td>12680.0</td>\n      <td>France</td>\n    </tr>\n    <tr>\n      <th>541901</th>\n      <td>581587</td>\n      <td>22367</td>\n      <td>CHILDRENS APRON SPACEBOY DESIGN</td>\n      <td>8</td>\n      <td>2011-12-09 12:50:00</td>\n      <td>1.95</td>\n      <td>12680.0</td>\n      <td>France</td>\n    </tr>\n    <tr>\n      <th>541902</th>\n      <td>581587</td>\n      <td>22629</td>\n      <td>SPACEBOY LUNCH BOX</td>\n      <td>12</td>\n      <td>2011-12-09 12:50:00</td>\n      <td>1.95</td>\n      <td>12680.0</td>\n      <td>France</td>\n    </tr>\n    <tr>\n      <th>541903</th>\n      <td>581587</td>\n      <td>23256</td>\n      <td>CHILDRENS CUTLERY SPACEBOY</td>\n      <td>4</td>\n      <td>2011-12-09 12:50:00</td>\n      <td>4.15</td>\n      <td>12680.0</td>\n      <td>France</td>\n    </tr>\n    <tr>\n      <th>541904</th>\n      <td>581587</td>\n      <td>22613</td>\n      <td>PACK OF 20 SPACEBOY NAPKINS</td>\n      <td>12</td>\n      <td>2011-12-09 12:50:00</td>\n      <td>0.85</td>\n      <td>12680.0</td>\n      <td>France</td>\n    </tr>\n    <tr>\n      <th>541905</th>\n      <td>581587</td>\n      <td>22899</td>\n      <td>CHILDREN'S APRON DOLLY GIRL</td>\n      <td>6</td>\n      <td>2011-12-09 12:50:00</td>\n      <td>2.10</td>\n      <td>12680.0</td>\n      <td>France</td>\n    </tr>\n    <tr>\n      <th>541906</th>\n      <td>581587</td>\n      <td>23254</td>\n      <td>CHILDRENS CUTLERY DOLLY GIRL</td>\n      <td>4</td>\n      <td>2011-12-09 12:50:00</td>\n      <td>4.15</td>\n      <td>12680.0</td>\n      <td>France</td>\n    </tr>\n    <tr>\n      <th>541907</th>\n      <td>581587</td>\n      <td>23255</td>\n      <td>CHILDRENS CUTLERY CIRCUS PARADE</td>\n      <td>4</td>\n      <td>2011-12-09 12:50:00</td>\n      <td>4.15</td>\n      <td>12680.0</td>\n      <td>France</td>\n    </tr>\n    <tr>\n      <th>541908</th>\n      <td>581587</td>\n      <td>22138</td>\n      <td>BAKING SET 9 PIECE RETROSPOT</td>\n      <td>3</td>\n      <td>2011-12-09 12:50:00</td>\n      <td>4.95</td>\n      <td>12680.0</td>\n      <td>France</td>\n    </tr>\n  </tbody>\n</table>\n</div>"
     },
     "metadata": {},
     "execution_count": 61
    }
   ],
   "source": [
    "data.tail(25)"
   ]
  },
  {
   "cell_type": "code",
   "execution_count": 5,
   "metadata": {},
   "outputs": [],
   "source": [
    "data['InvoiceDate'] = pd.to_datetime(data['InvoiceDate'],format='%m/%d/%Y %H:%M')"
   ]
  },
  {
   "cell_type": "code",
   "execution_count": 6,
   "metadata": {},
   "outputs": [],
   "source": [
    "conn = sqlite3.connect('db')\n",
    "cur = conn.cursor()"
   ]
  },
  {
   "cell_type": "code",
   "execution_count": 7,
   "metadata": {},
   "outputs": [],
   "source": [
    "def select(sql):\n",
    "  return pd.read_sql(sql, conn)"
   ]
  },
  {
   "cell_type": "code",
   "execution_count": 8,
   "metadata": {},
   "outputs": [],
   "source": [
    "data.to_sql('ecommerce', conn, index=False)"
   ]
  },
  {
   "cell_type": "code",
   "execution_count": 9,
   "metadata": {},
   "outputs": [
    {
     "output_type": "stream",
     "name": "stdout",
     "text": [
      "   count(*)\n0    541909 541909\n"
     ]
    }
   ],
   "source": [
    "sql = '''select count(*) from ecommerce t'''\n",
    "print(select(sql), len(data))"
   ]
  },
  {
   "cell_type": "code",
   "execution_count": 10,
   "metadata": {},
   "outputs": [
    {
     "output_type": "execute_result",
     "data": {
      "text/plain": [
       "pandas.core.frame.DataFrame"
      ]
     },
     "metadata": {},
     "execution_count": 10
    }
   ],
   "source": [
    "type(select(sql))"
   ]
  },
  {
   "cell_type": "code",
   "execution_count": 11,
   "metadata": {},
   "outputs": [
    {
     "output_type": "execute_result",
     "data": {
      "text/plain": [
       "  InvoiceNo StockCode                          Description  Quantity  \\\n",
       "0    536365    85123A   WHITE HANGING HEART T-LIGHT HOLDER         6   \n",
       "1    536365     71053                  WHITE METAL LANTERN         6   \n",
       "2    536365    84406B       CREAM CUPID HEARTS COAT HANGER         8   \n",
       "3    536365    84029G  KNITTED UNION FLAG HOT WATER BOTTLE         6   \n",
       "4    536365    84029E       RED WOOLLY HOTTIE WHITE HEART.         6   \n",
       "\n",
       "           InvoiceDate  UnitPrice  CustomerID         Country  \n",
       "0  2010-12-01 08:26:00       2.55     17850.0  United Kingdom  \n",
       "1  2010-12-01 08:26:00       3.39     17850.0  United Kingdom  \n",
       "2  2010-12-01 08:26:00       2.75     17850.0  United Kingdom  \n",
       "3  2010-12-01 08:26:00       3.39     17850.0  United Kingdom  \n",
       "4  2010-12-01 08:26:00       3.39     17850.0  United Kingdom  "
      ],
      "text/html": "<div>\n<style scoped>\n    .dataframe tbody tr th:only-of-type {\n        vertical-align: middle;\n    }\n\n    .dataframe tbody tr th {\n        vertical-align: top;\n    }\n\n    .dataframe thead th {\n        text-align: right;\n    }\n</style>\n<table border=\"1\" class=\"dataframe\">\n  <thead>\n    <tr style=\"text-align: right;\">\n      <th></th>\n      <th>InvoiceNo</th>\n      <th>StockCode</th>\n      <th>Description</th>\n      <th>Quantity</th>\n      <th>InvoiceDate</th>\n      <th>UnitPrice</th>\n      <th>CustomerID</th>\n      <th>Country</th>\n    </tr>\n  </thead>\n  <tbody>\n    <tr>\n      <th>0</th>\n      <td>536365</td>\n      <td>85123A</td>\n      <td>WHITE HANGING HEART T-LIGHT HOLDER</td>\n      <td>6</td>\n      <td>2010-12-01 08:26:00</td>\n      <td>2.55</td>\n      <td>17850.0</td>\n      <td>United Kingdom</td>\n    </tr>\n    <tr>\n      <th>1</th>\n      <td>536365</td>\n      <td>71053</td>\n      <td>WHITE METAL LANTERN</td>\n      <td>6</td>\n      <td>2010-12-01 08:26:00</td>\n      <td>3.39</td>\n      <td>17850.0</td>\n      <td>United Kingdom</td>\n    </tr>\n    <tr>\n      <th>2</th>\n      <td>536365</td>\n      <td>84406B</td>\n      <td>CREAM CUPID HEARTS COAT HANGER</td>\n      <td>8</td>\n      <td>2010-12-01 08:26:00</td>\n      <td>2.75</td>\n      <td>17850.0</td>\n      <td>United Kingdom</td>\n    </tr>\n    <tr>\n      <th>3</th>\n      <td>536365</td>\n      <td>84029G</td>\n      <td>KNITTED UNION FLAG HOT WATER BOTTLE</td>\n      <td>6</td>\n      <td>2010-12-01 08:26:00</td>\n      <td>3.39</td>\n      <td>17850.0</td>\n      <td>United Kingdom</td>\n    </tr>\n    <tr>\n      <th>4</th>\n      <td>536365</td>\n      <td>84029E</td>\n      <td>RED WOOLLY HOTTIE WHITE HEART.</td>\n      <td>6</td>\n      <td>2010-12-01 08:26:00</td>\n      <td>3.39</td>\n      <td>17850.0</td>\n      <td>United Kingdom</td>\n    </tr>\n  </tbody>\n</table>\n</div>"
     },
     "metadata": {},
     "execution_count": 11
    }
   ],
   "source": [
    "sql = '''select * from ecommerce t limit 5'''\n",
    "select(sql)"
   ]
  },
  {
   "cell_type": "code",
   "execution_count": 12,
   "metadata": {},
   "outputs": [
    {
     "output_type": "execute_result",
     "data": {
      "text/plain": [
       "InvoiceNo       object\n",
       "StockCode       object\n",
       "Description     object\n",
       "Quantity         int64\n",
       "InvoiceDate     object\n",
       "UnitPrice      float64\n",
       "CustomerID     float64\n",
       "Country         object\n",
       "dtype: object"
      ]
     },
     "metadata": {},
     "execution_count": 12
    }
   ],
   "source": [
    "select(sql).dtypes"
   ]
  },
  {
   "source": [
    "Анализ - RFM сегментация:\n",
    "R - как давно (1-4 балла),\n",
    "F - как часто (1-4 балла),\n",
    "M - как много (1-4 балла)"
   ],
   "cell_type": "markdown",
   "metadata": {}
  },
  {
   "source": [
    "RFM_score = (R+F+M) / 3 или создание кластеров, "
   ],
   "cell_type": "markdown",
   "metadata": {}
  },
  {
   "cell_type": "code",
   "execution_count": 13,
   "metadata": {},
   "outputs": [
    {
     "output_type": "execute_result",
     "data": {
      "text/plain": [
       "   date(t.InvoiceDate,'start of month')  count(*)\n",
       "0                            2010-12-01     42481\n",
       "1                            2011-01-01     35147\n",
       "2                            2011-02-01     27707\n",
       "3                            2011-03-01     36748\n",
       "4                            2011-04-01     29916\n",
       "5                            2011-05-01     37030\n",
       "6                            2011-06-01     36874\n",
       "7                            2011-07-01     39518\n",
       "8                            2011-08-01     35284\n",
       "9                            2011-09-01     50226\n",
       "10                           2011-10-01     60742\n",
       "11                           2011-11-01     84711\n",
       "12                           2011-12-01     25525"
      ],
      "text/html": "<div>\n<style scoped>\n    .dataframe tbody tr th:only-of-type {\n        vertical-align: middle;\n    }\n\n    .dataframe tbody tr th {\n        vertical-align: top;\n    }\n\n    .dataframe thead th {\n        text-align: right;\n    }\n</style>\n<table border=\"1\" class=\"dataframe\">\n  <thead>\n    <tr style=\"text-align: right;\">\n      <th></th>\n      <th>date(t.InvoiceDate,'start of month')</th>\n      <th>count(*)</th>\n    </tr>\n  </thead>\n  <tbody>\n    <tr>\n      <th>0</th>\n      <td>2010-12-01</td>\n      <td>42481</td>\n    </tr>\n    <tr>\n      <th>1</th>\n      <td>2011-01-01</td>\n      <td>35147</td>\n    </tr>\n    <tr>\n      <th>2</th>\n      <td>2011-02-01</td>\n      <td>27707</td>\n    </tr>\n    <tr>\n      <th>3</th>\n      <td>2011-03-01</td>\n      <td>36748</td>\n    </tr>\n    <tr>\n      <th>4</th>\n      <td>2011-04-01</td>\n      <td>29916</td>\n    </tr>\n    <tr>\n      <th>5</th>\n      <td>2011-05-01</td>\n      <td>37030</td>\n    </tr>\n    <tr>\n      <th>6</th>\n      <td>2011-06-01</td>\n      <td>36874</td>\n    </tr>\n    <tr>\n      <th>7</th>\n      <td>2011-07-01</td>\n      <td>39518</td>\n    </tr>\n    <tr>\n      <th>8</th>\n      <td>2011-08-01</td>\n      <td>35284</td>\n    </tr>\n    <tr>\n      <th>9</th>\n      <td>2011-09-01</td>\n      <td>50226</td>\n    </tr>\n    <tr>\n      <th>10</th>\n      <td>2011-10-01</td>\n      <td>60742</td>\n    </tr>\n    <tr>\n      <th>11</th>\n      <td>2011-11-01</td>\n      <td>84711</td>\n    </tr>\n    <tr>\n      <th>12</th>\n      <td>2011-12-01</td>\n      <td>25525</td>\n    </tr>\n  </tbody>\n</table>\n</div>"
     },
     "metadata": {},
     "execution_count": 13
    }
   ],
   "source": [
    "sql = '''select\n",
    "\n",
    "date(t.InvoiceDate,'start of month'),\n",
    "count(*)\n",
    "\n",
    "from ecommerce t \n",
    "group by date(t.InvoiceDate,'start of month')\n",
    "order by date(t.InvoiceDate,'start of month')\n",
    "'''\n",
    "select(sql)"
   ]
  },
  {
   "cell_type": "code",
   "execution_count": 37,
   "metadata": {},
   "outputs": [],
   "source": [
    "sql = '''select\n",
    "\n",
    "t.CustomerID, \n",
    "min(t.InvoiceDate) as reg_date,\n",
    "sum(t.Quantity * t.UnitPrice) as revenue\n",
    "\n",
    "from ecommerce t \n",
    "where date(t.InvoiceDate,'start of month') <= '2011-10-01'\n",
    "and t.CustomerID is not null\n",
    "group by t.CustomerID\n",
    "'''\n",
    "t = select(sql)"
   ]
  },
  {
   "cell_type": "code",
   "execution_count": 38,
   "metadata": {},
   "outputs": [
    {
     "output_type": "execute_result",
     "data": {
      "text/plain": [
       "<matplotlib.axes._subplots.AxesSubplot at 0x125056c18>"
      ]
     },
     "metadata": {},
     "execution_count": 38
    },
    {
     "output_type": "display_data",
     "data": {
      "text/plain": "<Figure size 432x288 with 1 Axes>",
      "image/svg+xml": "<?xml version=\"1.0\" encoding=\"utf-8\" standalone=\"no\"?>\n<!DOCTYPE svg PUBLIC \"-//W3C//DTD SVG 1.1//EN\"\n  \"http://www.w3.org/Graphics/SVG/1.1/DTD/svg11.dtd\">\n<!-- Created with matplotlib (https://matplotlib.org/) -->\n<svg height=\"248.518125pt\" version=\"1.1\" viewBox=\"0 0 382.941487 248.518125\" width=\"382.941487pt\" xmlns=\"http://www.w3.org/2000/svg\" xmlns:xlink=\"http://www.w3.org/1999/xlink\">\n <defs>\n  <style type=\"text/css\">\n*{stroke-linecap:butt;stroke-linejoin:round;white-space:pre;}\n  </style>\n </defs>\n <g id=\"figure_1\">\n  <g id=\"patch_1\">\n   <path d=\"M -0 248.518125 \nL 382.941487 248.518125 \nL 382.941487 0 \nL -0 0 \nz\n\" style=\"fill:none;\"/>\n  </g>\n  <g id=\"axes_1\">\n   <g id=\"patch_2\">\n    <path d=\"M 39.65 224.64 \nL 374.45 224.64 \nL 374.45 7.2 \nL 39.65 7.2 \nz\n\" style=\"fill:#ffffff;\"/>\n   </g>\n   <g id=\"patch_3\">\n    <path clip-path=\"url(#p1bada7c3ad)\" d=\"M 54.868182 224.64 \nL 85.304545 224.64 \nL 85.304545 224.569682 \nL 54.868182 224.569682 \nz\n\" style=\"fill:#1f77b4;\"/>\n   </g>\n   <g id=\"patch_4\">\n    <path clip-path=\"url(#p1bada7c3ad)\" d=\"M 85.304545 224.64 \nL 115.740909 224.64 \nL 115.740909 224.569682 \nL 85.304545 224.569682 \nz\n\" style=\"fill:#1f77b4;\"/>\n   </g>\n   <g id=\"patch_5\">\n    <path clip-path=\"url(#p1bada7c3ad)\" d=\"M 115.740909 224.64 \nL 146.177273 224.64 \nL 146.177273 222.249197 \nL 115.740909 222.249197 \nz\n\" style=\"fill:#1f77b4;\"/>\n   </g>\n   <g id=\"patch_6\">\n    <path clip-path=\"url(#p1bada7c3ad)\" d=\"M 146.177273 224.64 \nL 176.613636 224.64 \nL 176.613636 17.554286 \nL 146.177273 17.554286 \nz\n\" style=\"fill:#1f77b4;\"/>\n   </g>\n   <g id=\"patch_7\">\n    <path clip-path=\"url(#p1bada7c3ad)\" d=\"M 176.613636 224.64 \nL 207.05 224.64 \nL 207.05 183.996352 \nL 176.613636 183.996352 \nz\n\" style=\"fill:#1f77b4;\"/>\n   </g>\n   <g id=\"patch_8\">\n    <path clip-path=\"url(#p1bada7c3ad)\" d=\"M 207.05 224.64 \nL 237.486364 224.64 \nL 237.486364 210.928043 \nL 207.05 210.928043 \nz\n\" style=\"fill:#1f77b4;\"/>\n   </g>\n   <g id=\"patch_9\">\n    <path clip-path=\"url(#p1bada7c3ad)\" d=\"M 237.486364 224.64 \nL 267.922727 224.64 \nL 267.922727 218.803628 \nL 237.486364 218.803628 \nz\n\" style=\"fill:#1f77b4;\"/>\n   </g>\n   <g id=\"patch_10\">\n    <path clip-path=\"url(#p1bada7c3ad)\" d=\"M 267.922727 224.64 \nL 298.359091 224.64 \nL 298.359091 220.91316 \nL 267.922727 220.91316 \nz\n\" style=\"fill:#1f77b4;\"/>\n   </g>\n   <g id=\"patch_11\">\n    <path clip-path=\"url(#p1bada7c3ad)\" d=\"M 298.359091 224.64 \nL 328.795455 224.64 \nL 328.795455 222.741421 \nL 298.359091 222.741421 \nz\n\" style=\"fill:#1f77b4;\"/>\n   </g>\n   <g id=\"patch_12\">\n    <path clip-path=\"url(#p1bada7c3ad)\" d=\"M 328.795455 224.64 \nL 359.231818 224.64 \nL 359.231818 223.374281 \nL 328.795455 223.374281 \nz\n\" style=\"fill:#1f77b4;\"/>\n   </g>\n   <g id=\"matplotlib.axis_1\">\n    <g id=\"xtick_1\">\n     <g id=\"line2d_1\">\n      <path clip-path=\"url(#p1bada7c3ad)\" d=\"M 61.007596 224.64 \nL 61.007596 7.2 \n\" style=\"fill:none;stroke:#b0b0b0;stroke-linecap:square;stroke-width:0.8;\"/>\n     </g>\n     <g id=\"line2d_2\">\n      <defs>\n       <path d=\"M 0 0 \nL 0 3.5 \n\" id=\"m32cba27a68\" style=\"stroke:#000000;stroke-width:0.8;\"/>\n      </defs>\n      <g>\n       <use style=\"stroke:#000000;stroke-width:0.8;\" x=\"61.007596\" xlink:href=\"#m32cba27a68\" y=\"224.64\"/>\n      </g>\n     </g>\n     <g id=\"text_1\">\n      <!-- −4000 -->\n      <defs>\n       <path d=\"M 10.59375 35.5 \nL 73.1875 35.5 \nL 73.1875 27.203125 \nL 10.59375 27.203125 \nz\n\" id=\"DejaVuSans-8722\"/>\n       <path d=\"M 37.796875 64.3125 \nL 12.890625 25.390625 \nL 37.796875 25.390625 \nz\nM 35.203125 72.90625 \nL 47.609375 72.90625 \nL 47.609375 25.390625 \nL 58.015625 25.390625 \nL 58.015625 17.1875 \nL 47.609375 17.1875 \nL 47.609375 0 \nL 37.796875 0 \nL 37.796875 17.1875 \nL 4.890625 17.1875 \nL 4.890625 26.703125 \nz\n\" id=\"DejaVuSans-52\"/>\n       <path d=\"M 31.78125 66.40625 \nQ 24.171875 66.40625 20.328125 58.90625 \nQ 16.5 51.421875 16.5 36.375 \nQ 16.5 21.390625 20.328125 13.890625 \nQ 24.171875 6.390625 31.78125 6.390625 \nQ 39.453125 6.390625 43.28125 13.890625 \nQ 47.125 21.390625 47.125 36.375 \nQ 47.125 51.421875 43.28125 58.90625 \nQ 39.453125 66.40625 31.78125 66.40625 \nz\nM 31.78125 74.21875 \nQ 44.046875 74.21875 50.515625 64.515625 \nQ 56.984375 54.828125 56.984375 36.375 \nQ 56.984375 17.96875 50.515625 8.265625 \nQ 44.046875 -1.421875 31.78125 -1.421875 \nQ 19.53125 -1.421875 13.0625 8.265625 \nQ 6.59375 17.96875 6.59375 36.375 \nQ 6.59375 54.828125 13.0625 64.515625 \nQ 19.53125 74.21875 31.78125 74.21875 \nz\n\" id=\"DejaVuSans-48\"/>\n      </defs>\n      <g transform=\"translate(44.092752 239.238437)scale(0.1 -0.1)\">\n       <use xlink:href=\"#DejaVuSans-8722\"/>\n       <use x=\"83.789062\" xlink:href=\"#DejaVuSans-52\"/>\n       <use x=\"147.412109\" xlink:href=\"#DejaVuSans-48\"/>\n       <use x=\"211.035156\" xlink:href=\"#DejaVuSans-48\"/>\n       <use x=\"274.658203\" xlink:href=\"#DejaVuSans-48\"/>\n      </g>\n     </g>\n    </g>\n    <g id=\"xtick_2\">\n     <g id=\"line2d_3\">\n      <path clip-path=\"url(#p1bada7c3ad)\" d=\"M 103.697259 224.64 \nL 103.697259 7.2 \n\" style=\"fill:none;stroke:#b0b0b0;stroke-linecap:square;stroke-width:0.8;\"/>\n     </g>\n     <g id=\"line2d_4\">\n      <g>\n       <use style=\"stroke:#000000;stroke-width:0.8;\" x=\"103.697259\" xlink:href=\"#m32cba27a68\" y=\"224.64\"/>\n      </g>\n     </g>\n     <g id=\"text_2\">\n      <!-- −2000 -->\n      <defs>\n       <path d=\"M 19.1875 8.296875 \nL 53.609375 8.296875 \nL 53.609375 0 \nL 7.328125 0 \nL 7.328125 8.296875 \nQ 12.9375 14.109375 22.625 23.890625 \nQ 32.328125 33.6875 34.8125 36.53125 \nQ 39.546875 41.84375 41.421875 45.53125 \nQ 43.3125 49.21875 43.3125 52.78125 \nQ 43.3125 58.59375 39.234375 62.25 \nQ 35.15625 65.921875 28.609375 65.921875 \nQ 23.96875 65.921875 18.8125 64.3125 \nQ 13.671875 62.703125 7.8125 59.421875 \nL 7.8125 69.390625 \nQ 13.765625 71.78125 18.9375 73 \nQ 24.125 74.21875 28.421875 74.21875 \nQ 39.75 74.21875 46.484375 68.546875 \nQ 53.21875 62.890625 53.21875 53.421875 \nQ 53.21875 48.921875 51.53125 44.890625 \nQ 49.859375 40.875 45.40625 35.40625 \nQ 44.1875 33.984375 37.640625 27.21875 \nQ 31.109375 20.453125 19.1875 8.296875 \nz\n\" id=\"DejaVuSans-50\"/>\n      </defs>\n      <g transform=\"translate(86.782415 239.238437)scale(0.1 -0.1)\">\n       <use xlink:href=\"#DejaVuSans-8722\"/>\n       <use x=\"83.789062\" xlink:href=\"#DejaVuSans-50\"/>\n       <use x=\"147.412109\" xlink:href=\"#DejaVuSans-48\"/>\n       <use x=\"211.035156\" xlink:href=\"#DejaVuSans-48\"/>\n       <use x=\"274.658203\" xlink:href=\"#DejaVuSans-48\"/>\n      </g>\n     </g>\n    </g>\n    <g id=\"xtick_3\">\n     <g id=\"line2d_5\">\n      <path clip-path=\"url(#p1bada7c3ad)\" d=\"M 146.386922 224.64 \nL 146.386922 7.2 \n\" style=\"fill:none;stroke:#b0b0b0;stroke-linecap:square;stroke-width:0.8;\"/>\n     </g>\n     <g id=\"line2d_6\">\n      <g>\n       <use style=\"stroke:#000000;stroke-width:0.8;\" x=\"146.386922\" xlink:href=\"#m32cba27a68\" y=\"224.64\"/>\n      </g>\n     </g>\n     <g id=\"text_3\">\n      <!-- 0 -->\n      <g transform=\"translate(143.205672 239.238437)scale(0.1 -0.1)\">\n       <use xlink:href=\"#DejaVuSans-48\"/>\n      </g>\n     </g>\n    </g>\n    <g id=\"xtick_4\">\n     <g id=\"line2d_7\">\n      <path clip-path=\"url(#p1bada7c3ad)\" d=\"M 189.076585 224.64 \nL 189.076585 7.2 \n\" style=\"fill:none;stroke:#b0b0b0;stroke-linecap:square;stroke-width:0.8;\"/>\n     </g>\n     <g id=\"line2d_8\">\n      <g>\n       <use style=\"stroke:#000000;stroke-width:0.8;\" x=\"189.076585\" xlink:href=\"#m32cba27a68\" y=\"224.64\"/>\n      </g>\n     </g>\n     <g id=\"text_4\">\n      <!-- 2000 -->\n      <g transform=\"translate(176.351585 239.238437)scale(0.1 -0.1)\">\n       <use xlink:href=\"#DejaVuSans-50\"/>\n       <use x=\"63.623047\" xlink:href=\"#DejaVuSans-48\"/>\n       <use x=\"127.246094\" xlink:href=\"#DejaVuSans-48\"/>\n       <use x=\"190.869141\" xlink:href=\"#DejaVuSans-48\"/>\n      </g>\n     </g>\n    </g>\n    <g id=\"xtick_5\">\n     <g id=\"line2d_9\">\n      <path clip-path=\"url(#p1bada7c3ad)\" d=\"M 231.766248 224.64 \nL 231.766248 7.2 \n\" style=\"fill:none;stroke:#b0b0b0;stroke-linecap:square;stroke-width:0.8;\"/>\n     </g>\n     <g id=\"line2d_10\">\n      <g>\n       <use style=\"stroke:#000000;stroke-width:0.8;\" x=\"231.766248\" xlink:href=\"#m32cba27a68\" y=\"224.64\"/>\n      </g>\n     </g>\n     <g id=\"text_5\">\n      <!-- 4000 -->\n      <g transform=\"translate(219.041248 239.238437)scale(0.1 -0.1)\">\n       <use xlink:href=\"#DejaVuSans-52\"/>\n       <use x=\"63.623047\" xlink:href=\"#DejaVuSans-48\"/>\n       <use x=\"127.246094\" xlink:href=\"#DejaVuSans-48\"/>\n       <use x=\"190.869141\" xlink:href=\"#DejaVuSans-48\"/>\n      </g>\n     </g>\n    </g>\n    <g id=\"xtick_6\">\n     <g id=\"line2d_11\">\n      <path clip-path=\"url(#p1bada7c3ad)\" d=\"M 274.455911 224.64 \nL 274.455911 7.2 \n\" style=\"fill:none;stroke:#b0b0b0;stroke-linecap:square;stroke-width:0.8;\"/>\n     </g>\n     <g id=\"line2d_12\">\n      <g>\n       <use style=\"stroke:#000000;stroke-width:0.8;\" x=\"274.455911\" xlink:href=\"#m32cba27a68\" y=\"224.64\"/>\n      </g>\n     </g>\n     <g id=\"text_6\">\n      <!-- 6000 -->\n      <defs>\n       <path d=\"M 33.015625 40.375 \nQ 26.375 40.375 22.484375 35.828125 \nQ 18.609375 31.296875 18.609375 23.390625 \nQ 18.609375 15.53125 22.484375 10.953125 \nQ 26.375 6.390625 33.015625 6.390625 \nQ 39.65625 6.390625 43.53125 10.953125 \nQ 47.40625 15.53125 47.40625 23.390625 \nQ 47.40625 31.296875 43.53125 35.828125 \nQ 39.65625 40.375 33.015625 40.375 \nz\nM 52.59375 71.296875 \nL 52.59375 62.3125 \nQ 48.875 64.0625 45.09375 64.984375 \nQ 41.3125 65.921875 37.59375 65.921875 \nQ 27.828125 65.921875 22.671875 59.328125 \nQ 17.53125 52.734375 16.796875 39.40625 \nQ 19.671875 43.65625 24.015625 45.921875 \nQ 28.375 48.1875 33.59375 48.1875 \nQ 44.578125 48.1875 50.953125 41.515625 \nQ 57.328125 34.859375 57.328125 23.390625 \nQ 57.328125 12.15625 50.6875 5.359375 \nQ 44.046875 -1.421875 33.015625 -1.421875 \nQ 20.359375 -1.421875 13.671875 8.265625 \nQ 6.984375 17.96875 6.984375 36.375 \nQ 6.984375 53.65625 15.1875 63.9375 \nQ 23.390625 74.21875 37.203125 74.21875 \nQ 40.921875 74.21875 44.703125 73.484375 \nQ 48.484375 72.75 52.59375 71.296875 \nz\n\" id=\"DejaVuSans-54\"/>\n      </defs>\n      <g transform=\"translate(261.730911 239.238437)scale(0.1 -0.1)\">\n       <use xlink:href=\"#DejaVuSans-54\"/>\n       <use x=\"63.623047\" xlink:href=\"#DejaVuSans-48\"/>\n       <use x=\"127.246094\" xlink:href=\"#DejaVuSans-48\"/>\n       <use x=\"190.869141\" xlink:href=\"#DejaVuSans-48\"/>\n      </g>\n     </g>\n    </g>\n    <g id=\"xtick_7\">\n     <g id=\"line2d_13\">\n      <path clip-path=\"url(#p1bada7c3ad)\" d=\"M 317.145574 224.64 \nL 317.145574 7.2 \n\" style=\"fill:none;stroke:#b0b0b0;stroke-linecap:square;stroke-width:0.8;\"/>\n     </g>\n     <g id=\"line2d_14\">\n      <g>\n       <use style=\"stroke:#000000;stroke-width:0.8;\" x=\"317.145574\" xlink:href=\"#m32cba27a68\" y=\"224.64\"/>\n      </g>\n     </g>\n     <g id=\"text_7\">\n      <!-- 8000 -->\n      <defs>\n       <path d=\"M 31.78125 34.625 \nQ 24.75 34.625 20.71875 30.859375 \nQ 16.703125 27.09375 16.703125 20.515625 \nQ 16.703125 13.921875 20.71875 10.15625 \nQ 24.75 6.390625 31.78125 6.390625 \nQ 38.8125 6.390625 42.859375 10.171875 \nQ 46.921875 13.96875 46.921875 20.515625 \nQ 46.921875 27.09375 42.890625 30.859375 \nQ 38.875 34.625 31.78125 34.625 \nz\nM 21.921875 38.8125 \nQ 15.578125 40.375 12.03125 44.71875 \nQ 8.5 49.078125 8.5 55.328125 \nQ 8.5 64.0625 14.71875 69.140625 \nQ 20.953125 74.21875 31.78125 74.21875 \nQ 42.671875 74.21875 48.875 69.140625 \nQ 55.078125 64.0625 55.078125 55.328125 \nQ 55.078125 49.078125 51.53125 44.71875 \nQ 48 40.375 41.703125 38.8125 \nQ 48.828125 37.15625 52.796875 32.3125 \nQ 56.78125 27.484375 56.78125 20.515625 \nQ 56.78125 9.90625 50.3125 4.234375 \nQ 43.84375 -1.421875 31.78125 -1.421875 \nQ 19.734375 -1.421875 13.25 4.234375 \nQ 6.78125 9.90625 6.78125 20.515625 \nQ 6.78125 27.484375 10.78125 32.3125 \nQ 14.796875 37.15625 21.921875 38.8125 \nz\nM 18.3125 54.390625 \nQ 18.3125 48.734375 21.84375 45.5625 \nQ 25.390625 42.390625 31.78125 42.390625 \nQ 38.140625 42.390625 41.71875 45.5625 \nQ 45.3125 48.734375 45.3125 54.390625 \nQ 45.3125 60.0625 41.71875 63.234375 \nQ 38.140625 66.40625 31.78125 66.40625 \nQ 25.390625 66.40625 21.84375 63.234375 \nQ 18.3125 60.0625 18.3125 54.390625 \nz\n\" id=\"DejaVuSans-56\"/>\n      </defs>\n      <g transform=\"translate(304.420574 239.238437)scale(0.1 -0.1)\">\n       <use xlink:href=\"#DejaVuSans-56\"/>\n       <use x=\"63.623047\" xlink:href=\"#DejaVuSans-48\"/>\n       <use x=\"127.246094\" xlink:href=\"#DejaVuSans-48\"/>\n       <use x=\"190.869141\" xlink:href=\"#DejaVuSans-48\"/>\n      </g>\n     </g>\n    </g>\n    <g id=\"xtick_8\">\n     <g id=\"line2d_15\">\n      <path clip-path=\"url(#p1bada7c3ad)\" d=\"M 359.835237 224.64 \nL 359.835237 7.2 \n\" style=\"fill:none;stroke:#b0b0b0;stroke-linecap:square;stroke-width:0.8;\"/>\n     </g>\n     <g id=\"line2d_16\">\n      <g>\n       <use style=\"stroke:#000000;stroke-width:0.8;\" x=\"359.835237\" xlink:href=\"#m32cba27a68\" y=\"224.64\"/>\n      </g>\n     </g>\n     <g id=\"text_8\">\n      <!-- 10000 -->\n      <defs>\n       <path d=\"M 12.40625 8.296875 \nL 28.515625 8.296875 \nL 28.515625 63.921875 \nL 10.984375 60.40625 \nL 10.984375 69.390625 \nL 28.421875 72.90625 \nL 38.28125 72.90625 \nL 38.28125 8.296875 \nL 54.390625 8.296875 \nL 54.390625 0 \nL 12.40625 0 \nz\n\" id=\"DejaVuSans-49\"/>\n      </defs>\n      <g transform=\"translate(343.928987 239.238437)scale(0.1 -0.1)\">\n       <use xlink:href=\"#DejaVuSans-49\"/>\n       <use x=\"63.623047\" xlink:href=\"#DejaVuSans-48\"/>\n       <use x=\"127.246094\" xlink:href=\"#DejaVuSans-48\"/>\n       <use x=\"190.869141\" xlink:href=\"#DejaVuSans-48\"/>\n       <use x=\"254.492188\" xlink:href=\"#DejaVuSans-48\"/>\n      </g>\n     </g>\n    </g>\n   </g>\n   <g id=\"matplotlib.axis_2\">\n    <g id=\"ytick_1\">\n     <g id=\"line2d_17\">\n      <path clip-path=\"url(#p1bada7c3ad)\" d=\"M 39.65 224.64 \nL 374.45 224.64 \n\" style=\"fill:none;stroke:#b0b0b0;stroke-linecap:square;stroke-width:0.8;\"/>\n     </g>\n     <g id=\"line2d_18\">\n      <defs>\n       <path d=\"M 0 0 \nL -3.5 0 \n\" id=\"m9cf7b8ac78\" style=\"stroke:#000000;stroke-width:0.8;\"/>\n      </defs>\n      <g>\n       <use style=\"stroke:#000000;stroke-width:0.8;\" x=\"39.65\" xlink:href=\"#m9cf7b8ac78\" y=\"224.64\"/>\n      </g>\n     </g>\n     <g id=\"text_9\">\n      <!-- 0 -->\n      <g transform=\"translate(26.2875 228.439219)scale(0.1 -0.1)\">\n       <use xlink:href=\"#DejaVuSans-48\"/>\n      </g>\n     </g>\n    </g>\n    <g id=\"ytick_2\">\n     <g id=\"line2d_19\">\n      <path clip-path=\"url(#p1bada7c3ad)\" d=\"M 39.65 189.481135 \nL 374.45 189.481135 \n\" style=\"fill:none;stroke:#b0b0b0;stroke-linecap:square;stroke-width:0.8;\"/>\n     </g>\n     <g id=\"line2d_20\">\n      <g>\n       <use style=\"stroke:#000000;stroke-width:0.8;\" x=\"39.65\" xlink:href=\"#m9cf7b8ac78\" y=\"189.481135\"/>\n      </g>\n     </g>\n     <g id=\"text_10\">\n      <!-- 500 -->\n      <defs>\n       <path d=\"M 10.796875 72.90625 \nL 49.515625 72.90625 \nL 49.515625 64.59375 \nL 19.828125 64.59375 \nL 19.828125 46.734375 \nQ 21.96875 47.46875 24.109375 47.828125 \nQ 26.265625 48.1875 28.421875 48.1875 \nQ 40.625 48.1875 47.75 41.5 \nQ 54.890625 34.8125 54.890625 23.390625 \nQ 54.890625 11.625 47.5625 5.09375 \nQ 40.234375 -1.421875 26.90625 -1.421875 \nQ 22.3125 -1.421875 17.546875 -0.640625 \nQ 12.796875 0.140625 7.71875 1.703125 \nL 7.71875 11.625 \nQ 12.109375 9.234375 16.796875 8.0625 \nQ 21.484375 6.890625 26.703125 6.890625 \nQ 35.15625 6.890625 40.078125 11.328125 \nQ 45.015625 15.765625 45.015625 23.390625 \nQ 45.015625 31 40.078125 35.4375 \nQ 35.15625 39.890625 26.703125 39.890625 \nQ 22.75 39.890625 18.8125 39.015625 \nQ 14.890625 38.140625 10.796875 36.28125 \nz\n\" id=\"DejaVuSans-53\"/>\n      </defs>\n      <g transform=\"translate(13.5625 193.280354)scale(0.1 -0.1)\">\n       <use xlink:href=\"#DejaVuSans-53\"/>\n       <use x=\"63.623047\" xlink:href=\"#DejaVuSans-48\"/>\n       <use x=\"127.246094\" xlink:href=\"#DejaVuSans-48\"/>\n      </g>\n     </g>\n    </g>\n    <g id=\"ytick_3\">\n     <g id=\"line2d_21\">\n      <path clip-path=\"url(#p1bada7c3ad)\" d=\"M 39.65 154.32227 \nL 374.45 154.32227 \n\" style=\"fill:none;stroke:#b0b0b0;stroke-linecap:square;stroke-width:0.8;\"/>\n     </g>\n     <g id=\"line2d_22\">\n      <g>\n       <use style=\"stroke:#000000;stroke-width:0.8;\" x=\"39.65\" xlink:href=\"#m9cf7b8ac78\" y=\"154.32227\"/>\n      </g>\n     </g>\n     <g id=\"text_11\">\n      <!-- 1000 -->\n      <g transform=\"translate(7.2 158.121489)scale(0.1 -0.1)\">\n       <use xlink:href=\"#DejaVuSans-49\"/>\n       <use x=\"63.623047\" xlink:href=\"#DejaVuSans-48\"/>\n       <use x=\"127.246094\" xlink:href=\"#DejaVuSans-48\"/>\n       <use x=\"190.869141\" xlink:href=\"#DejaVuSans-48\"/>\n      </g>\n     </g>\n    </g>\n    <g id=\"ytick_4\">\n     <g id=\"line2d_23\">\n      <path clip-path=\"url(#p1bada7c3ad)\" d=\"M 39.65 119.163405 \nL 374.45 119.163405 \n\" style=\"fill:none;stroke:#b0b0b0;stroke-linecap:square;stroke-width:0.8;\"/>\n     </g>\n     <g id=\"line2d_24\">\n      <g>\n       <use style=\"stroke:#000000;stroke-width:0.8;\" x=\"39.65\" xlink:href=\"#m9cf7b8ac78\" y=\"119.163405\"/>\n      </g>\n     </g>\n     <g id=\"text_12\">\n      <!-- 1500 -->\n      <g transform=\"translate(7.2 122.962624)scale(0.1 -0.1)\">\n       <use xlink:href=\"#DejaVuSans-49\"/>\n       <use x=\"63.623047\" xlink:href=\"#DejaVuSans-53\"/>\n       <use x=\"127.246094\" xlink:href=\"#DejaVuSans-48\"/>\n       <use x=\"190.869141\" xlink:href=\"#DejaVuSans-48\"/>\n      </g>\n     </g>\n    </g>\n    <g id=\"ytick_5\">\n     <g id=\"line2d_25\">\n      <path clip-path=\"url(#p1bada7c3ad)\" d=\"M 39.65 84.00454 \nL 374.45 84.00454 \n\" style=\"fill:none;stroke:#b0b0b0;stroke-linecap:square;stroke-width:0.8;\"/>\n     </g>\n     <g id=\"line2d_26\">\n      <g>\n       <use style=\"stroke:#000000;stroke-width:0.8;\" x=\"39.65\" xlink:href=\"#m9cf7b8ac78\" y=\"84.00454\"/>\n      </g>\n     </g>\n     <g id=\"text_13\">\n      <!-- 2000 -->\n      <g transform=\"translate(7.2 87.803759)scale(0.1 -0.1)\">\n       <use xlink:href=\"#DejaVuSans-50\"/>\n       <use x=\"63.623047\" xlink:href=\"#DejaVuSans-48\"/>\n       <use x=\"127.246094\" xlink:href=\"#DejaVuSans-48\"/>\n       <use x=\"190.869141\" xlink:href=\"#DejaVuSans-48\"/>\n      </g>\n     </g>\n    </g>\n    <g id=\"ytick_6\">\n     <g id=\"line2d_27\">\n      <path clip-path=\"url(#p1bada7c3ad)\" d=\"M 39.65 48.845675 \nL 374.45 48.845675 \n\" style=\"fill:none;stroke:#b0b0b0;stroke-linecap:square;stroke-width:0.8;\"/>\n     </g>\n     <g id=\"line2d_28\">\n      <g>\n       <use style=\"stroke:#000000;stroke-width:0.8;\" x=\"39.65\" xlink:href=\"#m9cf7b8ac78\" y=\"48.845675\"/>\n      </g>\n     </g>\n     <g id=\"text_14\">\n      <!-- 2500 -->\n      <g transform=\"translate(7.2 52.644894)scale(0.1 -0.1)\">\n       <use xlink:href=\"#DejaVuSans-50\"/>\n       <use x=\"63.623047\" xlink:href=\"#DejaVuSans-53\"/>\n       <use x=\"127.246094\" xlink:href=\"#DejaVuSans-48\"/>\n       <use x=\"190.869141\" xlink:href=\"#DejaVuSans-48\"/>\n      </g>\n     </g>\n    </g>\n    <g id=\"ytick_7\">\n     <g id=\"line2d_29\">\n      <path clip-path=\"url(#p1bada7c3ad)\" d=\"M 39.65 13.686811 \nL 374.45 13.686811 \n\" style=\"fill:none;stroke:#b0b0b0;stroke-linecap:square;stroke-width:0.8;\"/>\n     </g>\n     <g id=\"line2d_30\">\n      <g>\n       <use style=\"stroke:#000000;stroke-width:0.8;\" x=\"39.65\" xlink:href=\"#m9cf7b8ac78\" y=\"13.686811\"/>\n      </g>\n     </g>\n     <g id=\"text_15\">\n      <!-- 3000 -->\n      <defs>\n       <path d=\"M 40.578125 39.3125 \nQ 47.65625 37.796875 51.625 33 \nQ 55.609375 28.21875 55.609375 21.1875 \nQ 55.609375 10.40625 48.1875 4.484375 \nQ 40.765625 -1.421875 27.09375 -1.421875 \nQ 22.515625 -1.421875 17.65625 -0.515625 \nQ 12.796875 0.390625 7.625 2.203125 \nL 7.625 11.71875 \nQ 11.71875 9.328125 16.59375 8.109375 \nQ 21.484375 6.890625 26.8125 6.890625 \nQ 36.078125 6.890625 40.9375 10.546875 \nQ 45.796875 14.203125 45.796875 21.1875 \nQ 45.796875 27.640625 41.28125 31.265625 \nQ 36.765625 34.90625 28.71875 34.90625 \nL 20.21875 34.90625 \nL 20.21875 43.015625 \nL 29.109375 43.015625 \nQ 36.375 43.015625 40.234375 45.921875 \nQ 44.09375 48.828125 44.09375 54.296875 \nQ 44.09375 59.90625 40.109375 62.90625 \nQ 36.140625 65.921875 28.71875 65.921875 \nQ 24.65625 65.921875 20.015625 65.03125 \nQ 15.375 64.15625 9.8125 62.3125 \nL 9.8125 71.09375 \nQ 15.4375 72.65625 20.34375 73.4375 \nQ 25.25 74.21875 29.59375 74.21875 \nQ 40.828125 74.21875 47.359375 69.109375 \nQ 53.90625 64.015625 53.90625 55.328125 \nQ 53.90625 49.265625 50.4375 45.09375 \nQ 46.96875 40.921875 40.578125 39.3125 \nz\n\" id=\"DejaVuSans-51\"/>\n      </defs>\n      <g transform=\"translate(7.2 17.486029)scale(0.1 -0.1)\">\n       <use xlink:href=\"#DejaVuSans-51\"/>\n       <use x=\"63.623047\" xlink:href=\"#DejaVuSans-48\"/>\n       <use x=\"127.246094\" xlink:href=\"#DejaVuSans-48\"/>\n       <use x=\"190.869141\" xlink:href=\"#DejaVuSans-48\"/>\n      </g>\n     </g>\n    </g>\n   </g>\n   <g id=\"patch_13\">\n    <path d=\"M 39.65 224.64 \nL 39.65 7.2 \n\" style=\"fill:none;stroke:#000000;stroke-linecap:square;stroke-linejoin:miter;stroke-width:0.8;\"/>\n   </g>\n   <g id=\"patch_14\">\n    <path d=\"M 374.45 224.64 \nL 374.45 7.2 \n\" style=\"fill:none;stroke:#000000;stroke-linecap:square;stroke-linejoin:miter;stroke-width:0.8;\"/>\n   </g>\n   <g id=\"patch_15\">\n    <path d=\"M 39.65 224.64 \nL 374.45 224.64 \n\" style=\"fill:none;stroke:#000000;stroke-linecap:square;stroke-linejoin:miter;stroke-width:0.8;\"/>\n   </g>\n   <g id=\"patch_16\">\n    <path d=\"M 39.65 7.2 \nL 374.45 7.2 \n\" style=\"fill:none;stroke:#000000;stroke-linecap:square;stroke-linejoin:miter;stroke-width:0.8;\"/>\n   </g>\n  </g>\n </g>\n <defs>\n  <clipPath id=\"p1bada7c3ad\">\n   <rect height=\"217.44\" width=\"334.8\" x=\"39.65\" y=\"7.2\"/>\n  </clipPath>\n </defs>\n</svg>\n",
      "image/png": "[encoded data removed]"
     },
     "metadata": {
      "needs_background": "light"
     }
    }
   ],
   "source": [
    "t[t['revenue'] < 10000]['revenue'].hist()"
   ]
  },
  {
   "cell_type": "code",
   "execution_count": 39,
   "metadata": {},
   "outputs": [
    {
     "output_type": "execute_result",
     "data": {
      "text/plain": [
       "0.9812967581047382"
      ]
     },
     "metadata": {},
     "execution_count": 39
    }
   ],
   "source": [
    "len(t[t['revenue'] < 10000]['revenue']) / len(t)"
   ]
  },
  {
   "cell_type": "code",
   "execution_count": 70,
   "metadata": {},
   "outputs": [
    {
     "output_type": "execute_result",
     "data": {
      "text/plain": [
       "<sqlite3.Cursor at 0x11e153490>"
      ]
     },
     "metadata": {},
     "execution_count": 70
    }
   ],
   "source": [
    "sql = '''\n",
    "drop table if exists customer; \n",
    "create table customer as \n",
    "select *, \n",
    "date('2011-11-01') as month,\n",
    "julianday(date('2011-11-01')) - julianday(last_purchase) as R\n",
    "\n",
    "from \n",
    "(select \n",
    "t.CustomerID, \n",
    "min(t.InvoiceDate) as reg_date,\n",
    "max(t.InvoiceDate) as last_purchase,\n",
    "sum(t.Quantity * t.UnitPrice) as M,\n",
    "count(distinct t.InvoiceNo) as F\n",
    "\n",
    "from ecommerce t \n",
    "where date(t.InvoiceDate,'start of month') <= '2011-10-01'\n",
    "and t.CustomerID is not null\n",
    "group by t.CustomerID\n",
    "having M < 10000)\n",
    "'''\n",
    "cur.executescript(sql)"
   ]
  },
  {
   "cell_type": "code",
   "execution_count": 88,
   "metadata": {},
   "outputs": [
    {
     "output_type": "execute_result",
     "data": {
      "text/plain": [
       "      CustomerID             reg_date        last_purchase        M   F  \\\n",
       "1255     14215.0  2010-12-06 15:34:00  2011-09-23 10:44:00  1332.11   6   \n",
       "2684     16360.0  2011-09-12 13:50:00  2011-10-04 12:22:00  1481.98   3   \n",
       "905      13685.0  2011-10-10 12:59:00  2011-10-25 13:14:00  1934.45   3   \n",
       "961      13769.0  2010-12-07 13:28:00  2011-09-08 13:55:00  2153.67  13   \n",
       "3711     17946.0  2011-03-25 14:34:00  2011-04-20 17:00:00   149.58   2   \n",
       "\n",
       "           month           R  \n",
       "1255  2011-11-01   38.552778  \n",
       "2684  2011-11-01   27.484722  \n",
       "905   2011-11-01    6.448611  \n",
       "961   2011-11-01   53.420139  \n",
       "3711  2011-11-01  194.291667  "
      ],
      "text/html": "<div>\n<style scoped>\n    .dataframe tbody tr th:only-of-type {\n        vertical-align: middle;\n    }\n\n    .dataframe tbody tr th {\n        vertical-align: top;\n    }\n\n    .dataframe thead th {\n        text-align: right;\n    }\n</style>\n<table border=\"1\" class=\"dataframe\">\n  <thead>\n    <tr style=\"text-align: right;\">\n      <th></th>\n      <th>CustomerID</th>\n      <th>reg_date</th>\n      <th>last_purchase</th>\n      <th>M</th>\n      <th>F</th>\n      <th>month</th>\n      <th>R</th>\n    </tr>\n  </thead>\n  <tbody>\n    <tr>\n      <th>1255</th>\n      <td>14215.0</td>\n      <td>2010-12-06 15:34:00</td>\n      <td>2011-09-23 10:44:00</td>\n      <td>1332.11</td>\n      <td>6</td>\n      <td>2011-11-01</td>\n      <td>38.552778</td>\n    </tr>\n    <tr>\n      <th>2684</th>\n      <td>16360.0</td>\n      <td>2011-09-12 13:50:00</td>\n      <td>2011-10-04 12:22:00</td>\n      <td>1481.98</td>\n      <td>3</td>\n      <td>2011-11-01</td>\n      <td>27.484722</td>\n    </tr>\n    <tr>\n      <th>905</th>\n      <td>13685.0</td>\n      <td>2011-10-10 12:59:00</td>\n      <td>2011-10-25 13:14:00</td>\n      <td>1934.45</td>\n      <td>3</td>\n      <td>2011-11-01</td>\n      <td>6.448611</td>\n    </tr>\n    <tr>\n      <th>961</th>\n      <td>13769.0</td>\n      <td>2010-12-07 13:28:00</td>\n      <td>2011-09-08 13:55:00</td>\n      <td>2153.67</td>\n      <td>13</td>\n      <td>2011-11-01</td>\n      <td>53.420139</td>\n    </tr>\n    <tr>\n      <th>3711</th>\n      <td>17946.0</td>\n      <td>2011-03-25 14:34:00</td>\n      <td>2011-04-20 17:00:00</td>\n      <td>149.58</td>\n      <td>2</td>\n      <td>2011-11-01</td>\n      <td>194.291667</td>\n    </tr>\n  </tbody>\n</table>\n</div>"
     },
     "metadata": {},
     "execution_count": 88
    }
   ],
   "source": [
    "sql = ''' select * from customer t'''\n",
    "t = select(sql)\n",
    "t.sample(5)"
   ]
  },
  {
   "cell_type": "code",
   "execution_count": 92,
   "metadata": {},
   "outputs": [
    {
     "output_type": "execute_result",
     "data": {
      "text/plain": [
       "                min  count\n",
       "R_score                   \n",
       "1        153.446528    984\n",
       "2         52.550694    983\n",
       "3         20.316667    984\n",
       "4          0.282639    984"
      ],
      "text/html": "<div>\n<style scoped>\n    .dataframe tbody tr th:only-of-type {\n        vertical-align: middle;\n    }\n\n    .dataframe tbody tr th {\n        vertical-align: top;\n    }\n\n    .dataframe thead th {\n        text-align: right;\n    }\n</style>\n<table border=\"1\" class=\"dataframe\">\n  <thead>\n    <tr style=\"text-align: right;\">\n      <th></th>\n      <th>min</th>\n      <th>count</th>\n    </tr>\n    <tr>\n      <th>R_score</th>\n      <th></th>\n      <th></th>\n    </tr>\n  </thead>\n  <tbody>\n    <tr>\n      <th>1</th>\n      <td>153.446528</td>\n      <td>984</td>\n    </tr>\n    <tr>\n      <th>2</th>\n      <td>52.550694</td>\n      <td>983</td>\n    </tr>\n    <tr>\n      <th>3</th>\n      <td>20.316667</td>\n      <td>984</td>\n    </tr>\n    <tr>\n      <th>4</th>\n      <td>0.282639</td>\n      <td>984</td>\n    </tr>\n  </tbody>\n</table>\n</div>"
     },
     "metadata": {},
     "execution_count": 92
    }
   ],
   "source": [
    "t['R_score'] = 4 - pd.qcut(t['R'], 4, labels = False)\n",
    "t.groupby(by = 'R_score')['R'].agg(['min', 'count'])"
   ]
  },
  {
   "cell_type": "code",
   "execution_count": 104,
   "metadata": {},
   "outputs": [
    {
     "output_type": "execute_result",
     "data": {
      "text/plain": [
       "                mean  count\n",
       "M_score                    \n",
       "1         138.807317    984\n",
       "2         401.886477    984\n",
       "3         894.042645    983\n",
       "4        3012.871109    984"
      ],
      "text/html": "<div>\n<style scoped>\n    .dataframe tbody tr th:only-of-type {\n        vertical-align: middle;\n    }\n\n    .dataframe tbody tr th {\n        vertical-align: top;\n    }\n\n    .dataframe thead th {\n        text-align: right;\n    }\n</style>\n<table border=\"1\" class=\"dataframe\">\n  <thead>\n    <tr style=\"text-align: right;\">\n      <th></th>\n      <th>mean</th>\n      <th>count</th>\n    </tr>\n    <tr>\n      <th>M_score</th>\n      <th></th>\n      <th></th>\n    </tr>\n  </thead>\n  <tbody>\n    <tr>\n      <th>1</th>\n      <td>138.807317</td>\n      <td>984</td>\n    </tr>\n    <tr>\n      <th>2</th>\n      <td>401.886477</td>\n      <td>984</td>\n    </tr>\n    <tr>\n      <th>3</th>\n      <td>894.042645</td>\n      <td>983</td>\n    </tr>\n    <tr>\n      <th>4</th>\n      <td>3012.871109</td>\n      <td>984</td>\n    </tr>\n  </tbody>\n</table>\n</div>"
     },
     "metadata": {},
     "execution_count": 104
    }
   ],
   "source": [
    "t['M_score'] = pd.qcut(t['M'], 4, labels = False) + 1\n",
    "t.groupby(by = 'M_score')['M'].agg(['mean', 'count'])"
   ]
  },
  {
   "cell_type": "code",
   "execution_count": 97,
   "metadata": {},
   "outputs": [
    {
     "output_type": "execute_result",
     "data": {
      "text/plain": [
       "1     1339\n",
       "2      777\n",
       "3      461\n",
       "4      317\n",
       "5      262\n",
       "6      152\n",
       "7      115\n",
       "8       96\n",
       "9       66\n",
       "10      62\n",
       "Name: F, dtype: int64"
      ]
     },
     "metadata": {},
     "execution_count": 97
    }
   ],
   "source": [
    "t['F'].value_counts()[:10]"
   ]
  },
  {
   "cell_type": "code",
   "execution_count": 98,
   "metadata": {},
   "outputs": [
    {
     "output_type": "execute_result",
     "data": {
      "text/plain": [
       "         min  count\n",
       "F_score            \n",
       "1          1   2116\n",
       "2          3   1040\n",
       "3          6    779"
      ],
      "text/html": "<div>\n<style scoped>\n    .dataframe tbody tr th:only-of-type {\n        vertical-align: middle;\n    }\n\n    .dataframe tbody tr th {\n        vertical-align: top;\n    }\n\n    .dataframe thead th {\n        text-align: right;\n    }\n</style>\n<table border=\"1\" class=\"dataframe\">\n  <thead>\n    <tr style=\"text-align: right;\">\n      <th></th>\n      <th>min</th>\n      <th>count</th>\n    </tr>\n    <tr>\n      <th>F_score</th>\n      <th></th>\n      <th></th>\n    </tr>\n  </thead>\n  <tbody>\n    <tr>\n      <th>1</th>\n      <td>1</td>\n      <td>2116</td>\n    </tr>\n    <tr>\n      <th>2</th>\n      <td>3</td>\n      <td>1040</td>\n    </tr>\n    <tr>\n      <th>3</th>\n      <td>6</td>\n      <td>779</td>\n    </tr>\n  </tbody>\n</table>\n</div>"
     },
     "metadata": {},
     "execution_count": 98
    }
   ],
   "source": [
    "t['F_score'] = pd.qcut(t['F'], 4, labels = False, duplicates = 'drop') + 1\n",
    "t.groupby(by = 'F_score')['F'].agg(['min', 'count'])"
   ]
  },
  {
   "cell_type": "code",
   "execution_count": 99,
   "metadata": {},
   "outputs": [
    {
     "output_type": "execute_result",
     "data": {
      "text/plain": [
       "F_score\n",
       "1                                               {1, 2}\n",
       "2                                            {3, 4, 5}\n",
       "3    {6, 7, 8, 9, 10, 11, 12, 13, 14, 15, 16, 17, 1...\n",
       "Name: F, dtype: object"
      ]
     },
     "metadata": {},
     "execution_count": 99
    }
   ],
   "source": [
    "t.groupby(by = 'F_score')['F'].agg(set)"
   ]
  },
  {
   "cell_type": "code",
   "execution_count": 100,
   "metadata": {},
   "outputs": [],
   "source": [
    "def get_F(x):\n",
    "    if x == 1:\n",
    "        return 1\n",
    "    if x in [2,3]:\n",
    "        return 2\n",
    "    if x in [4,5,6]:\n",
    "        return 3\n",
    "    return 4"
   ]
  },
  {
   "cell_type": "code",
   "execution_count": 103,
   "metadata": {},
   "outputs": [
    {
     "output_type": "execute_result",
     "data": {
      "text/plain": [
       "         min  count\n",
       "F_score            \n",
       "1          1   1339\n",
       "2          2   1238\n",
       "3          4    731\n",
       "4          7    627"
      ],
      "text/html": "<div>\n<style scoped>\n    .dataframe tbody tr th:only-of-type {\n        vertical-align: middle;\n    }\n\n    .dataframe tbody tr th {\n        vertical-align: top;\n    }\n\n    .dataframe thead th {\n        text-align: right;\n    }\n</style>\n<table border=\"1\" class=\"dataframe\">\n  <thead>\n    <tr style=\"text-align: right;\">\n      <th></th>\n      <th>min</th>\n      <th>count</th>\n    </tr>\n    <tr>\n      <th>F_score</th>\n      <th></th>\n      <th></th>\n    </tr>\n  </thead>\n  <tbody>\n    <tr>\n      <th>1</th>\n      <td>1</td>\n      <td>1339</td>\n    </tr>\n    <tr>\n      <th>2</th>\n      <td>2</td>\n      <td>1238</td>\n    </tr>\n    <tr>\n      <th>3</th>\n      <td>4</td>\n      <td>731</td>\n    </tr>\n    <tr>\n      <th>4</th>\n      <td>7</td>\n      <td>627</td>\n    </tr>\n  </tbody>\n</table>\n</div>"
     },
     "metadata": {},
     "execution_count": 103
    }
   ],
   "source": [
    "t['F_score'] = t['F'].apply(get_F)\n",
    "t.groupby(by = 'F_score')['F'].agg(['min', 'count'])"
   ]
  },
  {
   "cell_type": "code",
   "execution_count": 109,
   "metadata": {},
   "outputs": [
    {
     "output_type": "execute_result",
     "data": {
      "text/plain": [
       "      CustomerID             reg_date        last_purchase       M  F  \\\n",
       "2118     15511.0  2011-09-15 15:05:00  2011-10-20 15:15:00  514.50  3   \n",
       "166      12581.0  2011-10-31 08:56:00  2011-10-31 08:56:00  197.71  1   \n",
       "3914     18256.0  2010-12-20 08:27:00  2010-12-20 08:27:00  -50.10  1   \n",
       "2182     15609.0  2011-06-08 13:00:00  2011-06-10 09:55:00  270.03  2   \n",
       "1781     15030.0  2011-03-16 15:34:00  2011-09-29 10:50:00  518.28  2   \n",
       "\n",
       "           month           R  R_score  M_score  F_score  RFM_score  \n",
       "2118  2011-11-01   11.364583        4        2        2          8  \n",
       "166   2011-11-01    0.627778        4        1        1          6  \n",
       "3914  2011-11-01  315.647917        1        1        1          3  \n",
       "2182  2011-11-01  143.586806        2        2        2          6  \n",
       "1781  2011-11-01   32.548611        3        2        2          7  "
      ],
      "text/html": "<div>\n<style scoped>\n    .dataframe tbody tr th:only-of-type {\n        vertical-align: middle;\n    }\n\n    .dataframe tbody tr th {\n        vertical-align: top;\n    }\n\n    .dataframe thead th {\n        text-align: right;\n    }\n</style>\n<table border=\"1\" class=\"dataframe\">\n  <thead>\n    <tr style=\"text-align: right;\">\n      <th></th>\n      <th>CustomerID</th>\n      <th>reg_date</th>\n      <th>last_purchase</th>\n      <th>M</th>\n      <th>F</th>\n      <th>month</th>\n      <th>R</th>\n      <th>R_score</th>\n      <th>M_score</th>\n      <th>F_score</th>\n      <th>RFM_score</th>\n    </tr>\n  </thead>\n  <tbody>\n    <tr>\n      <th>2118</th>\n      <td>15511.0</td>\n      <td>2011-09-15 15:05:00</td>\n      <td>2011-10-20 15:15:00</td>\n      <td>514.50</td>\n      <td>3</td>\n      <td>2011-11-01</td>\n      <td>11.364583</td>\n      <td>4</td>\n      <td>2</td>\n      <td>2</td>\n      <td>8</td>\n    </tr>\n    <tr>\n      <th>166</th>\n      <td>12581.0</td>\n      <td>2011-10-31 08:56:00</td>\n      <td>2011-10-31 08:56:00</td>\n      <td>197.71</td>\n      <td>1</td>\n      <td>2011-11-01</td>\n      <td>0.627778</td>\n      <td>4</td>\n      <td>1</td>\n      <td>1</td>\n      <td>6</td>\n    </tr>\n    <tr>\n      <th>3914</th>\n      <td>18256.0</td>\n      <td>2010-12-20 08:27:00</td>\n      <td>2010-12-20 08:27:00</td>\n      <td>-50.10</td>\n      <td>1</td>\n      <td>2011-11-01</td>\n      <td>315.647917</td>\n      <td>1</td>\n      <td>1</td>\n      <td>1</td>\n      <td>3</td>\n    </tr>\n    <tr>\n      <th>2182</th>\n      <td>15609.0</td>\n      <td>2011-06-08 13:00:00</td>\n      <td>2011-06-10 09:55:00</td>\n      <td>270.03</td>\n      <td>2</td>\n      <td>2011-11-01</td>\n      <td>143.586806</td>\n      <td>2</td>\n      <td>2</td>\n      <td>2</td>\n      <td>6</td>\n    </tr>\n    <tr>\n      <th>1781</th>\n      <td>15030.0</td>\n      <td>2011-03-16 15:34:00</td>\n      <td>2011-09-29 10:50:00</td>\n      <td>518.28</td>\n      <td>2</td>\n      <td>2011-11-01</td>\n      <td>32.548611</td>\n      <td>3</td>\n      <td>2</td>\n      <td>2</td>\n      <td>7</td>\n    </tr>\n  </tbody>\n</table>\n</div>"
     },
     "metadata": {},
     "execution_count": 109
    }
   ],
   "source": [
    "t['RFM_score'] = t['R_score'] + t['F_score'] + t['M_score']\n",
    "t.sample(5)"
   ]
  },
  {
   "source": [
    "Итого: сегментация, https://towardsdatascience.com/recency-frequency-monetary-model-with-python-and-how-sephora-uses-it-to-optimize-their-google-d6a0707c5f17"
   ],
   "cell_type": "markdown",
   "metadata": {}
  },
  {
   "cell_type": "code",
   "execution_count": 110,
   "metadata": {},
   "outputs": [
    {
     "output_type": "execute_result",
     "data": {
      "text/plain": [
       "      CustomerID             reg_date        last_purchase        M   F  \\\n",
       "1172     14085.0  2010-12-06 12:39:00  2011-10-25 16:20:00  3525.98  15   \n",
       "1187     14112.0  2011-03-09 11:28:00  2011-10-30 16:00:00  2613.15  10   \n",
       "2113     15505.0  2011-07-07 13:33:00  2011-10-18 07:56:00  3497.14   7   \n",
       "2098     15482.0  2010-12-16 10:08:00  2011-10-25 17:32:00  2503.50   8   \n",
       "3337     17365.0  2011-01-11 12:11:00  2011-10-20 12:07:00  4375.19   7   \n",
       "757      13468.0  2010-12-01 15:08:00  2011-10-12 14:10:00  5049.45  35   \n",
       "1176     14099.0  2010-12-20 11:14:00  2011-10-27 13:41:00  2879.17  11   \n",
       "3347     17377.0  2010-12-01 12:35:00  2011-10-23 12:28:00  3004.50  16   \n",
       "1182     14107.0  2010-12-10 13:29:00  2011-10-19 12:12:00  2688.48   8   \n",
       "3355     17396.0  2010-12-03 09:45:00  2011-10-31 14:12:00  7330.80   8   \n",
       "\n",
       "           month          R  R_score  M_score  F_score  RFM_score  \n",
       "1172  2011-11-01   6.319444        4        4        4         12  \n",
       "1187  2011-11-01   1.333333        4        4        4         12  \n",
       "2113  2011-11-01  13.669444        4        4        4         12  \n",
       "2098  2011-11-01   6.269444        4        4        4         12  \n",
       "3337  2011-11-01  11.495139        4        4        4         12  \n",
       "757   2011-11-01  19.409722        4        4        4         12  \n",
       "1176  2011-11-01   4.429861        4        4        4         12  \n",
       "3347  2011-11-01   8.480556        4        4        4         12  \n",
       "1182  2011-11-01  12.491667        4        4        4         12  \n",
       "3355  2011-11-01   0.408333        4        4        4         12  "
      ],
      "text/html": "<div>\n<style scoped>\n    .dataframe tbody tr th:only-of-type {\n        vertical-align: middle;\n    }\n\n    .dataframe tbody tr th {\n        vertical-align: top;\n    }\n\n    .dataframe thead th {\n        text-align: right;\n    }\n</style>\n<table border=\"1\" class=\"dataframe\">\n  <thead>\n    <tr style=\"text-align: right;\">\n      <th></th>\n      <th>CustomerID</th>\n      <th>reg_date</th>\n      <th>last_purchase</th>\n      <th>M</th>\n      <th>F</th>\n      <th>month</th>\n      <th>R</th>\n      <th>R_score</th>\n      <th>M_score</th>\n      <th>F_score</th>\n      <th>RFM_score</th>\n    </tr>\n  </thead>\n  <tbody>\n    <tr>\n      <th>1172</th>\n      <td>14085.0</td>\n      <td>2010-12-06 12:39:00</td>\n      <td>2011-10-25 16:20:00</td>\n      <td>3525.98</td>\n      <td>15</td>\n      <td>2011-11-01</td>\n      <td>6.319444</td>\n      <td>4</td>\n      <td>4</td>\n      <td>4</td>\n      <td>12</td>\n    </tr>\n    <tr>\n      <th>1187</th>\n      <td>14112.0</td>\n      <td>2011-03-09 11:28:00</td>\n      <td>2011-10-30 16:00:00</td>\n      <td>2613.15</td>\n      <td>10</td>\n      <td>2011-11-01</td>\n      <td>1.333333</td>\n      <td>4</td>\n      <td>4</td>\n      <td>4</td>\n      <td>12</td>\n    </tr>\n    <tr>\n      <th>2113</th>\n      <td>15505.0</td>\n      <td>2011-07-07 13:33:00</td>\n      <td>2011-10-18 07:56:00</td>\n      <td>3497.14</td>\n      <td>7</td>\n      <td>2011-11-01</td>\n      <td>13.669444</td>\n      <td>4</td>\n      <td>4</td>\n      <td>4</td>\n      <td>12</td>\n    </tr>\n    <tr>\n      <th>2098</th>\n      <td>15482.0</td>\n      <td>2010-12-16 10:08:00</td>\n      <td>2011-10-25 17:32:00</td>\n      <td>2503.50</td>\n      <td>8</td>\n      <td>2011-11-01</td>\n      <td>6.269444</td>\n      <td>4</td>\n      <td>4</td>\n      <td>4</td>\n      <td>12</td>\n    </tr>\n    <tr>\n      <th>3337</th>\n      <td>17365.0</td>\n      <td>2011-01-11 12:11:00</td>\n      <td>2011-10-20 12:07:00</td>\n      <td>4375.19</td>\n      <td>7</td>\n      <td>2011-11-01</td>\n      <td>11.495139</td>\n      <td>4</td>\n      <td>4</td>\n      <td>4</td>\n      <td>12</td>\n    </tr>\n    <tr>\n      <th>757</th>\n      <td>13468.0</td>\n      <td>2010-12-01 15:08:00</td>\n      <td>2011-10-12 14:10:00</td>\n      <td>5049.45</td>\n      <td>35</td>\n      <td>2011-11-01</td>\n      <td>19.409722</td>\n      <td>4</td>\n      <td>4</td>\n      <td>4</td>\n      <td>12</td>\n    </tr>\n    <tr>\n      <th>1176</th>\n      <td>14099.0</td>\n      <td>2010-12-20 11:14:00</td>\n      <td>2011-10-27 13:41:00</td>\n      <td>2879.17</td>\n      <td>11</td>\n      <td>2011-11-01</td>\n      <td>4.429861</td>\n      <td>4</td>\n      <td>4</td>\n      <td>4</td>\n      <td>12</td>\n    </tr>\n    <tr>\n      <th>3347</th>\n      <td>17377.0</td>\n      <td>2010-12-01 12:35:00</td>\n      <td>2011-10-23 12:28:00</td>\n      <td>3004.50</td>\n      <td>16</td>\n      <td>2011-11-01</td>\n      <td>8.480556</td>\n      <td>4</td>\n      <td>4</td>\n      <td>4</td>\n      <td>12</td>\n    </tr>\n    <tr>\n      <th>1182</th>\n      <td>14107.0</td>\n      <td>2010-12-10 13:29:00</td>\n      <td>2011-10-19 12:12:00</td>\n      <td>2688.48</td>\n      <td>8</td>\n      <td>2011-11-01</td>\n      <td>12.491667</td>\n      <td>4</td>\n      <td>4</td>\n      <td>4</td>\n      <td>12</td>\n    </tr>\n    <tr>\n      <th>3355</th>\n      <td>17396.0</td>\n      <td>2010-12-03 09:45:00</td>\n      <td>2011-10-31 14:12:00</td>\n      <td>7330.80</td>\n      <td>8</td>\n      <td>2011-11-01</td>\n      <td>0.408333</td>\n      <td>4</td>\n      <td>4</td>\n      <td>4</td>\n      <td>12</td>\n    </tr>\n  </tbody>\n</table>\n</div>"
     },
     "metadata": {},
     "execution_count": 110
    }
   ],
   "source": [
    "t.sort_values('RFM_score', ascending = False).head(10)"
   ]
  },
  {
   "cell_type": "code",
   "execution_count": 112,
   "metadata": {},
   "outputs": [],
   "source": [
    "def RFM_level(df):\n",
    "    if df['RFM_score'] >= 9:\n",
    "        return 'Cant Loose Them'\n",
    "    elif ((df['RFM_score'] >= 8) and (df['RFM_score'] < 9)):\n",
    "        return 'Champions'\n",
    "    elif ((df['RFM_score'] >= 7) and (df['RFM_score'] < 8)):\n",
    "        return 'Loyal'\n",
    "    elif ((df['RFM_score'] >= 6) and (df['RFM_score'] < 7)):\n",
    "        return 'Potential'\n",
    "    elif ((df['RFM_score'] >= 5) and (df['RFM_score'] < 6)):\n",
    "        return 'Promising'\n",
    "    elif ((df['RFM_score'] >= 4) and (df['RFM_score'] < 5)):\n",
    "        return 'Needs Attention'\n",
    "    else:\n",
    "        return 'Require Activation'"
   ]
  },
  {
   "cell_type": "code",
   "execution_count": 114,
   "metadata": {},
   "outputs": [
    {
     "output_type": "execute_result",
     "data": {
      "text/plain": [
       "Cant Loose Them       1307\n",
       "Potential              500\n",
       "Loyal                  476\n",
       "Needs Attention        438\n",
       "Champions              418\n",
       "Promising              409\n",
       "Require Activation     387\n",
       "Name: RFM_segment, dtype: int64"
      ]
     },
     "metadata": {},
     "execution_count": 114
    }
   ],
   "source": [
    "t['RFM_segment'] = t.apply(RFM_level, axis = 1)\n",
    "t['RFM_segment'].value_counts()"
   ]
  },
  {
   "cell_type": "code",
   "execution_count": 115,
   "metadata": {},
   "outputs": [
    {
     "output_type": "execute_result",
     "data": {
      "text/plain": [
       "                           mean  count\n",
       "RFM_segment                           \n",
       "Cant Loose Them     2399.799870   1307\n",
       "Champions            979.344811    418\n",
       "Loyal                656.788071    476\n",
       "Needs Attention      230.661849    438\n",
       "Potential            456.758162    500\n",
       "Promising            332.846186    409\n",
       "Require Activation   133.005271    387"
      ],
      "text/html": "<div>\n<style scoped>\n    .dataframe tbody tr th:only-of-type {\n        vertical-align: middle;\n    }\n\n    .dataframe tbody tr th {\n        vertical-align: top;\n    }\n\n    .dataframe thead th {\n        text-align: right;\n    }\n</style>\n<table border=\"1\" class=\"dataframe\">\n  <thead>\n    <tr style=\"text-align: right;\">\n      <th></th>\n      <th>mean</th>\n      <th>count</th>\n    </tr>\n    <tr>\n      <th>RFM_segment</th>\n      <th></th>\n      <th></th>\n    </tr>\n  </thead>\n  <tbody>\n    <tr>\n      <th>Cant Loose Them</th>\n      <td>2399.799870</td>\n      <td>1307</td>\n    </tr>\n    <tr>\n      <th>Champions</th>\n      <td>979.344811</td>\n      <td>418</td>\n    </tr>\n    <tr>\n      <th>Loyal</th>\n      <td>656.788071</td>\n      <td>476</td>\n    </tr>\n    <tr>\n      <th>Needs Attention</th>\n      <td>230.661849</td>\n      <td>438</td>\n    </tr>\n    <tr>\n      <th>Potential</th>\n      <td>456.758162</td>\n      <td>500</td>\n    </tr>\n    <tr>\n      <th>Promising</th>\n      <td>332.846186</td>\n      <td>409</td>\n    </tr>\n    <tr>\n      <th>Require Activation</th>\n      <td>133.005271</td>\n      <td>387</td>\n    </tr>\n  </tbody>\n</table>\n</div>"
     },
     "metadata": {},
     "execution_count": 115
    }
   ],
   "source": [
    "t.groupby('RFM_segment')['M'].agg(['mean', 'count'])"
   ]
  },
  {
   "source": [
    "другой способ - через процентили вместо 1-4"
   ],
   "cell_type": "markdown",
   "metadata": {}
  },
  {
   "cell_type": "code",
   "execution_count": 134,
   "metadata": {},
   "outputs": [],
   "source": [
    "t['R_rnk'] = t['R'].rank(pct = True, ascending = False)\n",
    "t['F_rnk'] = t['F'].rank(pct = True, ascending = True, method = 'max')\n",
    "t['M_rnk'] = t['M'].rank(pct = True, ascending = True)"
   ]
  },
  {
   "cell_type": "code",
   "execution_count": 135,
   "metadata": {},
   "outputs": [],
   "source": [
    "t['RFM_rnk'] = t['R_rnk'] + t['F_rnk'] + t['M_rnk']"
   ]
  },
  {
   "cell_type": "code",
   "execution_count": 136,
   "metadata": {},
   "outputs": [
    {
     "output_type": "execute_result",
     "data": {
      "text/plain": [
       "      CustomerID  RFM_score      RFM_segment   RFM_rnk\n",
       "1429     14474.0          8        Champions  1.944600\n",
       "3892     18226.0         12  Cant Loose Them  2.848285\n",
       "381      12883.0          6        Potential  1.125032\n",
       "280      12729.0          5        Promising  1.188310\n",
       "200      12623.0          4  Needs Attention  0.746379"
      ],
      "text/html": "<div>\n<style scoped>\n    .dataframe tbody tr th:only-of-type {\n        vertical-align: middle;\n    }\n\n    .dataframe tbody tr th {\n        vertical-align: top;\n    }\n\n    .dataframe thead th {\n        text-align: right;\n    }\n</style>\n<table border=\"1\" class=\"dataframe\">\n  <thead>\n    <tr style=\"text-align: right;\">\n      <th></th>\n      <th>CustomerID</th>\n      <th>RFM_score</th>\n      <th>RFM_segment</th>\n      <th>RFM_rnk</th>\n    </tr>\n  </thead>\n  <tbody>\n    <tr>\n      <th>1429</th>\n      <td>14474.0</td>\n      <td>8</td>\n      <td>Champions</td>\n      <td>1.944600</td>\n    </tr>\n    <tr>\n      <th>3892</th>\n      <td>18226.0</td>\n      <td>12</td>\n      <td>Cant Loose Them</td>\n      <td>2.848285</td>\n    </tr>\n    <tr>\n      <th>381</th>\n      <td>12883.0</td>\n      <td>6</td>\n      <td>Potential</td>\n      <td>1.125032</td>\n    </tr>\n    <tr>\n      <th>280</th>\n      <td>12729.0</td>\n      <td>5</td>\n      <td>Promising</td>\n      <td>1.188310</td>\n    </tr>\n    <tr>\n      <th>200</th>\n      <td>12623.0</td>\n      <td>4</td>\n      <td>Needs Attention</td>\n      <td>0.746379</td>\n    </tr>\n  </tbody>\n</table>\n</div>"
     },
     "metadata": {},
     "execution_count": 136
    }
   ],
   "source": [
    "t.loc[:,['CustomerID', 'RFM_score', 'RFM_segment', 'RFM_rnk']].sample(5)"
   ]
  },
  {
   "cell_type": "code",
   "execution_count": null,
   "metadata": {},
   "outputs": [],
   "source": []
  }
 ]
}