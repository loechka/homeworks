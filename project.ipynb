{
 "cells": [
  {
   "cell_type": "markdown",
   "metadata": {},
   "source": [
    "# Загрузка и предобработка данных "
   ]
  },
  {
   "cell_type": "code",
   "execution_count": 1,
   "metadata": {},
   "outputs": [],
   "source": [
    "import pandas as pd\n",
    "import numpy as np\n",
    "\n",
    "from sklearn.model_selection import KFold, cross_val_score, train_test_split\n",
    "from sklearn.ensemble import GradientBoostingClassifier\n",
    "from sklearn.ensemble import AdaBoostClassifier\n",
    "from sklearn.metrics import roc_auc_score\n",
    "\n",
    "import time\n",
    "import datetime\n",
    "\n",
    "import matplotlib.pyplot as plt"
   ]
  },
  {
   "cell_type": "code",
   "execution_count": 2,
   "metadata": {},
   "outputs": [],
   "source": [
    "data = pd.read_csv('../Downloads/features.csv', index_col='match_id')"
   ]
  },
  {
   "cell_type": "code",
   "execution_count": 3,
   "metadata": {},
   "outputs": [
    {
     "data": {
      "text/html": [
       "<div>\n",
       "<style scoped>\n",
       "    .dataframe tbody tr th:only-of-type {\n",
       "        vertical-align: middle;\n",
       "    }\n",
       "\n",
       "    .dataframe tbody tr th {\n",
       "        vertical-align: top;\n",
       "    }\n",
       "\n",
       "    .dataframe thead th {\n",
       "        text-align: right;\n",
       "    }\n",
       "</style>\n",
       "<table border=\"1\" class=\"dataframe\">\n",
       "  <thead>\n",
       "    <tr style=\"text-align: right;\">\n",
       "      <th></th>\n",
       "      <th>start_time</th>\n",
       "      <th>lobby_type</th>\n",
       "      <th>r1_hero</th>\n",
       "      <th>r1_level</th>\n",
       "      <th>r1_xp</th>\n",
       "      <th>r1_gold</th>\n",
       "      <th>r1_lh</th>\n",
       "      <th>r1_kills</th>\n",
       "      <th>r1_deaths</th>\n",
       "      <th>r1_items</th>\n",
       "      <th>...</th>\n",
       "      <th>dire_boots_count</th>\n",
       "      <th>dire_ward_observer_count</th>\n",
       "      <th>dire_ward_sentry_count</th>\n",
       "      <th>dire_first_ward_time</th>\n",
       "      <th>duration</th>\n",
       "      <th>radiant_win</th>\n",
       "      <th>tower_status_radiant</th>\n",
       "      <th>tower_status_dire</th>\n",
       "      <th>barracks_status_radiant</th>\n",
       "      <th>barracks_status_dire</th>\n",
       "    </tr>\n",
       "    <tr>\n",
       "      <th>match_id</th>\n",
       "      <th></th>\n",
       "      <th></th>\n",
       "      <th></th>\n",
       "      <th></th>\n",
       "      <th></th>\n",
       "      <th></th>\n",
       "      <th></th>\n",
       "      <th></th>\n",
       "      <th></th>\n",
       "      <th></th>\n",
       "      <th></th>\n",
       "      <th></th>\n",
       "      <th></th>\n",
       "      <th></th>\n",
       "      <th></th>\n",
       "      <th></th>\n",
       "      <th></th>\n",
       "      <th></th>\n",
       "      <th></th>\n",
       "      <th></th>\n",
       "      <th></th>\n",
       "    </tr>\n",
       "  </thead>\n",
       "  <tbody>\n",
       "    <tr>\n",
       "      <th>0</th>\n",
       "      <td>1430198770</td>\n",
       "      <td>7</td>\n",
       "      <td>11</td>\n",
       "      <td>5</td>\n",
       "      <td>2098</td>\n",
       "      <td>1489</td>\n",
       "      <td>20</td>\n",
       "      <td>0</td>\n",
       "      <td>0</td>\n",
       "      <td>7</td>\n",
       "      <td>...</td>\n",
       "      <td>4</td>\n",
       "      <td>2</td>\n",
       "      <td>2</td>\n",
       "      <td>-52.0</td>\n",
       "      <td>2874</td>\n",
       "      <td>1</td>\n",
       "      <td>1796</td>\n",
       "      <td>0</td>\n",
       "      <td>51</td>\n",
       "      <td>0</td>\n",
       "    </tr>\n",
       "    <tr>\n",
       "      <th>1</th>\n",
       "      <td>1430220345</td>\n",
       "      <td>0</td>\n",
       "      <td>42</td>\n",
       "      <td>4</td>\n",
       "      <td>1188</td>\n",
       "      <td>1033</td>\n",
       "      <td>9</td>\n",
       "      <td>0</td>\n",
       "      <td>1</td>\n",
       "      <td>12</td>\n",
       "      <td>...</td>\n",
       "      <td>4</td>\n",
       "      <td>3</td>\n",
       "      <td>1</td>\n",
       "      <td>-5.0</td>\n",
       "      <td>2463</td>\n",
       "      <td>1</td>\n",
       "      <td>1974</td>\n",
       "      <td>0</td>\n",
       "      <td>63</td>\n",
       "      <td>1</td>\n",
       "    </tr>\n",
       "    <tr>\n",
       "      <th>2</th>\n",
       "      <td>1430227081</td>\n",
       "      <td>7</td>\n",
       "      <td>33</td>\n",
       "      <td>4</td>\n",
       "      <td>1319</td>\n",
       "      <td>1270</td>\n",
       "      <td>22</td>\n",
       "      <td>0</td>\n",
       "      <td>0</td>\n",
       "      <td>12</td>\n",
       "      <td>...</td>\n",
       "      <td>4</td>\n",
       "      <td>3</td>\n",
       "      <td>1</td>\n",
       "      <td>13.0</td>\n",
       "      <td>2130</td>\n",
       "      <td>0</td>\n",
       "      <td>0</td>\n",
       "      <td>1830</td>\n",
       "      <td>0</td>\n",
       "      <td>63</td>\n",
       "    </tr>\n",
       "    <tr>\n",
       "      <th>3</th>\n",
       "      <td>1430263531</td>\n",
       "      <td>1</td>\n",
       "      <td>29</td>\n",
       "      <td>4</td>\n",
       "      <td>1779</td>\n",
       "      <td>1056</td>\n",
       "      <td>14</td>\n",
       "      <td>0</td>\n",
       "      <td>0</td>\n",
       "      <td>5</td>\n",
       "      <td>...</td>\n",
       "      <td>4</td>\n",
       "      <td>2</td>\n",
       "      <td>0</td>\n",
       "      <td>27.0</td>\n",
       "      <td>1459</td>\n",
       "      <td>0</td>\n",
       "      <td>1920</td>\n",
       "      <td>2047</td>\n",
       "      <td>50</td>\n",
       "      <td>63</td>\n",
       "    </tr>\n",
       "    <tr>\n",
       "      <th>4</th>\n",
       "      <td>1430282290</td>\n",
       "      <td>7</td>\n",
       "      <td>13</td>\n",
       "      <td>4</td>\n",
       "      <td>1431</td>\n",
       "      <td>1090</td>\n",
       "      <td>8</td>\n",
       "      <td>1</td>\n",
       "      <td>0</td>\n",
       "      <td>8</td>\n",
       "      <td>...</td>\n",
       "      <td>3</td>\n",
       "      <td>3</td>\n",
       "      <td>0</td>\n",
       "      <td>-16.0</td>\n",
       "      <td>2449</td>\n",
       "      <td>0</td>\n",
       "      <td>4</td>\n",
       "      <td>1974</td>\n",
       "      <td>3</td>\n",
       "      <td>63</td>\n",
       "    </tr>\n",
       "  </tbody>\n",
       "</table>\n",
       "<p>5 rows × 108 columns</p>\n",
       "</div>"
      ],
      "text/plain": [
       "          start_time  lobby_type  r1_hero  r1_level  r1_xp  r1_gold  r1_lh  \\\n",
       "match_id                                                                     \n",
       "0         1430198770           7       11         5   2098     1489     20   \n",
       "1         1430220345           0       42         4   1188     1033      9   \n",
       "2         1430227081           7       33         4   1319     1270     22   \n",
       "3         1430263531           1       29         4   1779     1056     14   \n",
       "4         1430282290           7       13         4   1431     1090      8   \n",
       "\n",
       "          r1_kills  r1_deaths  r1_items  ...  dire_boots_count  \\\n",
       "match_id                                 ...                     \n",
       "0                0          0         7  ...                 4   \n",
       "1                0          1        12  ...                 4   \n",
       "2                0          0        12  ...                 4   \n",
       "3                0          0         5  ...                 4   \n",
       "4                1          0         8  ...                 3   \n",
       "\n",
       "          dire_ward_observer_count  dire_ward_sentry_count  \\\n",
       "match_id                                                     \n",
       "0                                2                       2   \n",
       "1                                3                       1   \n",
       "2                                3                       1   \n",
       "3                                2                       0   \n",
       "4                                3                       0   \n",
       "\n",
       "          dire_first_ward_time  duration  radiant_win  tower_status_radiant  \\\n",
       "match_id                                                                      \n",
       "0                        -52.0      2874            1                  1796   \n",
       "1                         -5.0      2463            1                  1974   \n",
       "2                         13.0      2130            0                     0   \n",
       "3                         27.0      1459            0                  1920   \n",
       "4                        -16.0      2449            0                     4   \n",
       "\n",
       "          tower_status_dire  barracks_status_radiant  barracks_status_dire  \n",
       "match_id                                                                    \n",
       "0                         0                       51                     0  \n",
       "1                         0                       63                     1  \n",
       "2                      1830                        0                    63  \n",
       "3                      2047                       50                    63  \n",
       "4                      1974                        3                    63  \n",
       "\n",
       "[5 rows x 108 columns]"
      ]
     },
     "execution_count": 3,
     "metadata": {},
     "output_type": "execute_result"
    }
   ],
   "source": [
    "data.head()"
   ]
  },
  {
   "cell_type": "code",
   "execution_count": 4,
   "metadata": {},
   "outputs": [
    {
     "data": {
      "text/plain": [
       "(97230, 108)"
      ]
     },
     "execution_count": 4,
     "metadata": {},
     "output_type": "execute_result"
    }
   ],
   "source": [
    "data.shape"
   ]
  },
  {
   "cell_type": "code",
   "execution_count": 5,
   "metadata": {},
   "outputs": [
    {
     "data": {
      "text/plain": [
       "array(['start_time', 'lobby_type', 'r1_hero', 'r1_level', 'r1_xp',\n",
       "       'r1_gold', 'r1_lh', 'r1_kills', 'r1_deaths', 'r1_items', 'r2_hero',\n",
       "       'r2_level', 'r2_xp', 'r2_gold', 'r2_lh', 'r2_kills', 'r2_deaths',\n",
       "       'r2_items', 'r3_hero', 'r3_level', 'r3_xp', 'r3_gold', 'r3_lh',\n",
       "       'r3_kills', 'r3_deaths', 'r3_items', 'r4_hero', 'r4_level',\n",
       "       'r4_xp', 'r4_gold', 'r4_lh', 'r4_kills', 'r4_deaths', 'r4_items',\n",
       "       'r5_hero', 'r5_level', 'r5_xp', 'r5_gold', 'r5_lh', 'r5_kills',\n",
       "       'r5_deaths', 'r5_items', 'd1_hero', 'd1_level', 'd1_xp', 'd1_gold',\n",
       "       'd1_lh', 'd1_kills', 'd1_deaths', 'd1_items', 'd2_hero',\n",
       "       'd2_level', 'd2_xp', 'd2_gold', 'd2_lh', 'd2_kills', 'd2_deaths',\n",
       "       'd2_items', 'd3_hero', 'd3_level', 'd3_xp', 'd3_gold', 'd3_lh',\n",
       "       'd3_kills', 'd3_deaths', 'd3_items', 'd4_hero', 'd4_level',\n",
       "       'd4_xp', 'd4_gold', 'd4_lh', 'd4_kills', 'd4_deaths', 'd4_items',\n",
       "       'd5_hero', 'd5_level', 'd5_xp', 'd5_gold', 'd5_lh', 'd5_kills',\n",
       "       'd5_deaths', 'd5_items', 'first_blood_time', 'first_blood_team',\n",
       "       'first_blood_player1', 'first_blood_player2',\n",
       "       'radiant_bottle_time', 'radiant_courier_time',\n",
       "       'radiant_flying_courier_time', 'radiant_tpscroll_count',\n",
       "       'radiant_boots_count', 'radiant_ward_observer_count',\n",
       "       'radiant_ward_sentry_count', 'radiant_first_ward_time',\n",
       "       'dire_bottle_time', 'dire_courier_time',\n",
       "       'dire_flying_courier_time', 'dire_tpscroll_count',\n",
       "       'dire_boots_count', 'dire_ward_observer_count',\n",
       "       'dire_ward_sentry_count', 'dire_first_ward_time', 'duration',\n",
       "       'radiant_win', 'tower_status_radiant', 'tower_status_dire',\n",
       "       'barracks_status_radiant', 'barracks_status_dire'], dtype=object)"
      ]
     },
     "execution_count": 5,
     "metadata": {},
     "output_type": "execute_result"
    }
   ],
   "source": [
    "data.columns.values"
   ]
  },
  {
   "cell_type": "markdown",
   "metadata": {},
   "source": [
    "### Вопрос 1.1"
   ]
  },
  {
   "cell_type": "markdown",
   "metadata": {},
   "source": [
    "Значения пропущены в столбцах, которые отвечают за различные события. Пропуск означает, что это событие не произошло за первые 5 минут матча."
   ]
  },
  {
   "cell_type": "code",
   "execution_count": 6,
   "metadata": {},
   "outputs": [
    {
     "name": "stdout",
     "output_type": "stream",
     "text": [
      "first_blood_time\n",
      "first_blood_team\n",
      "first_blood_player1\n",
      "first_blood_player2\n",
      "radiant_bottle_time\n",
      "radiant_courier_time\n",
      "radiant_flying_courier_time\n",
      "radiant_first_ward_time\n",
      "dire_bottle_time\n",
      "dire_courier_time\n",
      "dire_flying_courier_time\n",
      "dire_first_ward_time\n"
     ]
    }
   ],
   "source": [
    "for i in data.columns:\n",
    "    if data[i].count()!=len(data):\n",
    "        print(i)"
   ]
  },
  {
   "cell_type": "code",
   "execution_count": 7,
   "metadata": {},
   "outputs": [],
   "source": [
    "data.fillna(0, inplace = True)"
   ]
  },
  {
   "cell_type": "markdown",
   "metadata": {},
   "source": [
    "### Вопрос 1.2"
   ]
  },
  {
   "cell_type": "markdown",
   "metadata": {},
   "source": [
    "Целевая переменная содержится в столбце radiant_win"
   ]
  },
  {
   "cell_type": "code",
   "execution_count": 8,
   "metadata": {},
   "outputs": [],
   "source": [
    "y = data.radiant_win"
   ]
  },
  {
   "cell_type": "code",
   "execution_count": 9,
   "metadata": {},
   "outputs": [],
   "source": [
    "data = data.drop(['duration','radiant_win', 'tower_status_radiant', 'tower_status_dire', 'barracks_status_radiant'\\\n",
    "                 , 'barracks_status_dire'], axis = 1)"
   ]
  },
  {
   "cell_type": "markdown",
   "metadata": {},
   "source": [
    "# Градиентный бустинг"
   ]
  },
  {
   "cell_type": "code",
   "execution_count": 10,
   "metadata": {},
   "outputs": [],
   "source": [
    "kf = KFold(n_splits = 5, random_state=241, shuffle=True)"
   ]
  },
  {
   "cell_type": "markdown",
   "metadata": {},
   "source": [
    "### Вопрос 1.3\n",
    "Используем для кросс-валидации всю выборку."
   ]
  },
  {
   "cell_type": "code",
   "execution_count": 11,
   "metadata": {},
   "outputs": [
    {
     "name": "stdout",
     "output_type": "stream",
     "text": [
      "10 - Time elapsed: 0:00:35.256349 Score_norm: 0.6643877206345741\n",
      "20 - Time elapsed: 0:01:09.050504 Score_norm: 0.6828535735340823\n",
      "30 - Time elapsed: 0:01:42.779178 Score_norm: 0.6894962060591201\n",
      "40 - Time elapsed: 0:02:17.808862 Score_norm: 0.6941311214730338\n",
      "50 - Time elapsed: 0:02:53.765148 Score_norm: 0.6974548316948366\n"
     ]
    }
   ],
   "source": [
    "for k in [10,20,30,40,50]:\n",
    "    start_time = datetime.datetime.now()\n",
    "\n",
    "    clf = GradientBoostingClassifier(n_estimators=k, random_state=241)\n",
    "    score = cross_val_score(clf, X = data, y = y, cv = kf, scoring = 'roc_auc')\n",
    "    score_norm = np.mean(score, axis=0)\n",
    "    \n",
    "    print ('{} - Time elapsed:'.format(k), datetime.datetime.now() - start_time,  'Score_norm:', score_norm)"
   ]
  },
  {
   "cell_type": "markdown",
   "metadata": {
    "scrolled": false
   },
   "source": [
    "Классификатор настраивается долго. \\\n",
    "Например, для 30 деревьев затраченное время - 0:01:42, качество на кросс-валидации - 0.69\\\n",
    "\\\n",
    "Для повышения скорости на кросс-валидации будем использовать половину выборки и уменьшим максимальную глубину дерева."
   ]
  },
  {
   "cell_type": "code",
   "execution_count": 12,
   "metadata": {},
   "outputs": [],
   "source": [
    "X_train, X_test, y_train, y_test = train_test_split(data, y, test_size=0.5, random_state=241)"
   ]
  },
  {
   "cell_type": "code",
   "execution_count": 101,
   "metadata": {},
   "outputs": [
    {
     "name": "stdout",
     "output_type": "stream",
     "text": [
      "10 - Time elapsed: 0:00:12.083808 Score_norm: 0.6516004488181601\n",
      "20 - Time elapsed: 0:00:25.856951 Score_norm: 0.6709798580296918\n",
      "30 - Time elapsed: 0:00:35.776193 Score_norm: 0.6805633099208099\n",
      "40 - Time elapsed: 0:00:46.478068 Score_norm: 0.6848197750002187\n",
      "50 - Time elapsed: 0:00:58.700130 Score_norm: 0.6883217644516753\n",
      "80 - Time elapsed: 0:01:32.387350 Score_norm: 0.6959639977610795\n",
      "100 - Time elapsed: 0:01:57.617724 Score_norm: 0.6993575071162461\n",
      "150 - Time elapsed: 0:02:54.739110 Score_norm: 0.7046065718823884\n"
     ]
    }
   ],
   "source": [
    "scores = list()\n",
    "estimators = [10,20,30,40,50,80,100,150]\n",
    "for k in estimators:\n",
    "    start_time = datetime.datetime.now()\n",
    "\n",
    "    clf = GradientBoostingClassifier(n_estimators=k, random_state=241, max_depth = 2)\n",
    "    score = cross_val_score(clf, X = X_train, y = y_train, cv = kf, scoring = 'roc_auc')\n",
    "    score_norm = np.mean(score, axis=0)\n",
    "    scores.append(score_norm)\n",
    "    \n",
    "    print ('{} - Time elapsed:'.format(k), datetime.datetime.now() - start_time,  'Score_norm:', score_norm)"
   ]
  },
  {
   "cell_type": "markdown",
   "metadata": {},
   "source": [
    "Время настройки классификатора уменьшилось, качество пострадало примерно на 0.01. Но результат приемлемый. \\\n",
    "Дополнительно можно сравнить работу градиентного бустинга и классификатора AdaBoost."
   ]
  },
  {
   "cell_type": "code",
   "execution_count": 16,
   "metadata": {},
   "outputs": [
    {
     "name": "stdout",
     "output_type": "stream",
     "text": [
      "20 - Time elapsed: 0:00:14.076448 Score_norm: 0.6816978212880292\n"
     ]
    }
   ],
   "source": [
    "# AdaBoost (максимальная глубина дерева по умолчанию 1)\n",
    "start_time = datetime.datetime.now()\n",
    "\n",
    "clf_ab = AdaBoostClassifier(n_estimators = 20, random_state=241)\n",
    "score_ab = cross_val_score(clf_ab, X = X_train, y = y_train, cv = kf, scoring = 'roc_auc')\n",
    "score_norm_ab = np.mean(score_ab, axis=0)\n",
    "\n",
    "print ('{} - Time elapsed:'.format(20), datetime.datetime.now() - start_time,  'Score_norm:', score_norm_ab)"
   ]
  },
  {
   "cell_type": "code",
   "execution_count": 17,
   "metadata": {},
   "outputs": [
    {
     "name": "stdout",
     "output_type": "stream",
     "text": [
      "20 - Time elapsed: 0:00:11.758324 Score_norm: 0.6513932673523224\n"
     ]
    }
   ],
   "source": [
    "# Градиентный бустинг (выставим максимальную глубину дерева вручную)\n",
    "start_time = datetime.datetime.now()\n",
    "\n",
    "clf = GradientBoostingClassifier(n_estimators=20, random_state=241, max_depth = 1)\n",
    "score = cross_val_score(clf, X = X_train, y = y_train, cv = kf, scoring = 'roc_auc')\n",
    "score_norm = np.mean(score, axis=0)\n",
    "\n",
    "print ('{} - Time elapsed:'.format(20), datetime.datetime.now() - start_time,  'Score_norm:', score_norm)"
   ]
  },
  {
   "cell_type": "markdown",
   "metadata": {},
   "source": [
    "AdaBoost показал себя лучше скорее всего из-за разных значений learning_rate\n",
    "### Вопрос 1.4\n",
    "С помощью графика значений ошибок для различных значений n_estimators сделаем вывод о том, стоит ли увеличивать количество деревьев."
   ]
  },
  {
   "cell_type": "code",
   "execution_count": 22,
   "metadata": {},
   "outputs": [],
   "source": [
    "estimators = [10,20,30,40,50,80,100,150]"
   ]
  },
  {
   "cell_type": "code",
   "execution_count": 102,
   "metadata": {},
   "outputs": [
    {
     "data": {
      "image/png": "[encoded data removed]",
      "text/plain": [
       "<Figure size 432x288 with 1 Axes>"
      ]
     },
     "metadata": {
      "needs_background": "light"
     },
     "output_type": "display_data"
    }
   ],
   "source": [
    "# исследуем, насколько имеет смысл увеличивать кол-во базовых классификаторов\n",
    "plt.plot(estimators, scores, 'bo-')\n",
    "plt.legend(['GradientBoostingClassifier', 'AdaBoost'])\n",
    "plt.show()"
   ]
  },
  {
   "cell_type": "markdown",
   "metadata": {},
   "source": [
    "Качество на кросс-валидации увеличивается, но темпы роста уменьшаются."
   ]
  },
  {
   "cell_type": "markdown",
   "metadata": {},
   "source": [
    "# ЛОГИСТИЧЕСКАЯ РЕГРЕССИЯ"
   ]
  },
  {
   "cell_type": "code",
   "execution_count": 26,
   "metadata": {},
   "outputs": [],
   "source": [
    "from sklearn.preprocessing import StandardScaler\n",
    "from sklearn.linear_model import LogisticRegression"
   ]
  },
  {
   "cell_type": "code",
   "execution_count": 31,
   "metadata": {},
   "outputs": [
    {
     "name": "stdout",
     "output_type": "stream",
     "text": [
      "C=0.01 - Time elapsed: 0:00:01.001750  Score_norm: 0.5134556409261802\n",
      "C=0.1 - Time elapsed: 0:00:00.980119  Score_norm: 0.5134556409261802\n",
      "C=1.0 - Time elapsed: 0:00:00.992973  Score_norm: 0.5134556409261802\n",
      "C=10.0 - Time elapsed: 0:00:00.973388  Score_norm: 0.5134556409261802\n",
      "C=100.0 - Time elapsed: 0:00:00.977575  Score_norm: 0.5134556409261802\n"
     ]
    }
   ],
   "source": [
    "for c in np.logspace(-2,2, num = 5):\n",
    "    start_time = datetime.datetime.now()\n",
    "    \n",
    "    clf_lr = LogisticRegression(C = c)\n",
    "    score = cross_val_score(clf_lr, X = data, y = y, cv = kf, scoring = 'roc_auc')\n",
    "    score_norm = np.mean(score, axis=0)\n",
    "    \n",
    "    print ('C={} - Time elapsed:'.format(c), datetime.datetime.now() - start_time,  ' Score_norm:', score_norm)"
   ]
  },
  {
   "cell_type": "markdown",
   "metadata": {},
   "source": [
    "Линейные модели требуют предобработки данных, масштабируем числовые признаки."
   ]
  },
  {
   "cell_type": "code",
   "execution_count": 103,
   "metadata": {},
   "outputs": [],
   "source": [
    "# отдельно выделим категориальные признаки (персонажи игроков и тип комнаты)\n",
    "categ = ['lobby_type','r1_hero','r2_hero','r3_hero','r4_hero','r5_hero', 'd1_hero', 'd2_hero',\\\n",
    "          'd3_hero', 'd4_hero', 'd5_hero']"
   ]
  },
  {
   "cell_type": "code",
   "execution_count": 104,
   "metadata": {},
   "outputs": [],
   "source": [
    "scaler = StandardScaler()\n",
    "data_sc = pd.DataFrame(scaler.fit_transform(data), columns = data.columns)"
   ]
  },
  {
   "cell_type": "code",
   "execution_count": 105,
   "metadata": {},
   "outputs": [],
   "source": [
    "kf = KFold(n_splits = 5, random_state=241, shuffle=True)"
   ]
  },
  {
   "cell_type": "markdown",
   "metadata": {},
   "source": [
    "Используем на кросс-валидации всю выборку\n",
    "### Вопрос 2.1"
   ]
  },
  {
   "cell_type": "code",
   "execution_count": 106,
   "metadata": {},
   "outputs": [
    {
     "name": "stdout",
     "output_type": "stream",
     "text": [
      "C=0.01 - Time elapsed: 0:00:02.326500  Score_norm: 0.7163420915422014\n",
      "C=0.1 - Time elapsed: 0:00:02.451916  Score_norm: 0.7163104821911903\n",
      "C=1.0 - Time elapsed: 0:00:02.391644  Score_norm: 0.7163066323165939\n",
      "C=10.0 - Time elapsed: 0:00:02.367408  Score_norm: 0.7163062740151922\n",
      "C=100.0 - Time elapsed: 0:00:02.522700  Score_norm: 0.7163067404065245\n"
     ]
    }
   ],
   "source": [
    "# чем выше коэффициент C, тем слабее регуляризации \n",
    "for c in np.logspace(-2,2, num = 5):\n",
    "    start_time = datetime.datetime.now()\n",
    "    \n",
    "    clf_lr = LogisticRegression(C = c)\n",
    "    score = cross_val_score(clf_lr, X = data_sc, y = y, cv = kf, scoring = 'roc_auc')\n",
    "    score_norm = np.mean(score, axis=0)\n",
    "    \n",
    "    print ('C={} - Time elapsed:'.format(c), datetime.datetime.now() - start_time, ' Score_norm:', score_norm)"
   ]
  },
  {
   "cell_type": "code",
   "execution_count": 107,
   "metadata": {},
   "outputs": [
    {
     "data": {
      "text/html": [
       "<div>\n",
       "<style scoped>\n",
       "    .dataframe tbody tr th:only-of-type {\n",
       "        vertical-align: middle;\n",
       "    }\n",
       "\n",
       "    .dataframe tbody tr th {\n",
       "        vertical-align: top;\n",
       "    }\n",
       "\n",
       "    .dataframe thead th {\n",
       "        text-align: right;\n",
       "    }\n",
       "</style>\n",
       "<table border=\"1\" class=\"dataframe\">\n",
       "  <thead>\n",
       "    <tr style=\"text-align: right;\">\n",
       "      <th></th>\n",
       "      <th>start_time</th>\n",
       "      <th>lobby_type</th>\n",
       "      <th>r1_hero</th>\n",
       "      <th>r1_level</th>\n",
       "      <th>r1_xp</th>\n",
       "      <th>r1_gold</th>\n",
       "      <th>r1_lh</th>\n",
       "      <th>r1_kills</th>\n",
       "      <th>r1_deaths</th>\n",
       "      <th>r1_items</th>\n",
       "      <th>...</th>\n",
       "      <th>radiant_ward_sentry_count</th>\n",
       "      <th>radiant_first_ward_time</th>\n",
       "      <th>dire_bottle_time</th>\n",
       "      <th>dire_courier_time</th>\n",
       "      <th>dire_flying_courier_time</th>\n",
       "      <th>dire_tpscroll_count</th>\n",
       "      <th>dire_boots_count</th>\n",
       "      <th>dire_ward_observer_count</th>\n",
       "      <th>dire_ward_sentry_count</th>\n",
       "      <th>dire_first_ward_time</th>\n",
       "    </tr>\n",
       "  </thead>\n",
       "  <tbody>\n",
       "    <tr>\n",
       "      <th>0</th>\n",
       "      <td>-2.544364</td>\n",
       "      <td>1.540688</td>\n",
       "      <td>-1.244228</td>\n",
       "      <td>1.400808</td>\n",
       "      <td>1.525972</td>\n",
       "      <td>0.734957</td>\n",
       "      <td>0.969743</td>\n",
       "      <td>-0.537757</td>\n",
       "      <td>-0.578083</td>\n",
       "      <td>-0.509023</td>\n",
       "      <td>...</td>\n",
       "      <td>-0.987486</td>\n",
       "      <td>1.066448</td>\n",
       "      <td>-0.041743</td>\n",
       "      <td>-0.262922</td>\n",
       "      <td>0.640648</td>\n",
       "      <td>0.018054</td>\n",
       "      <td>0.562864</td>\n",
       "      <td>-0.551154</td>\n",
       "      <td>1.846004</td>\n",
       "      <td>-1.121494</td>\n",
       "    </tr>\n",
       "    <tr>\n",
       "      <th>1</th>\n",
       "      <td>-2.540452</td>\n",
       "      <td>-0.927798</td>\n",
       "      <td>-0.292258</td>\n",
       "      <td>0.501314</td>\n",
       "      <td>-0.080139</td>\n",
       "      <td>-0.247570</td>\n",
       "      <td>-0.246859</td>\n",
       "      <td>-0.537757</td>\n",
       "      <td>1.017574</td>\n",
       "      <td>1.492930</td>\n",
       "      <td>...</td>\n",
       "      <td>-0.987486</td>\n",
       "      <td>-0.338591</td>\n",
       "      <td>0.578946</td>\n",
       "      <td>-0.262922</td>\n",
       "      <td>0.379585</td>\n",
       "      <td>1.066668</td>\n",
       "      <td>0.562864</td>\n",
       "      <td>0.678170</td>\n",
       "      <td>0.437788</td>\n",
       "      <td>0.043947</td>\n",
       "    </tr>\n",
       "    <tr>\n",
       "      <th>2</th>\n",
       "      <td>-2.539231</td>\n",
       "      <td>1.540688</td>\n",
       "      <td>-0.568637</td>\n",
       "      <td>0.501314</td>\n",
       "      <td>0.151070</td>\n",
       "      <td>0.263085</td>\n",
       "      <td>1.190944</td>\n",
       "      <td>-0.537757</td>\n",
       "      <td>-0.578083</td>\n",
       "      <td>1.492930</td>\n",
       "      <td>...</td>\n",
       "      <td>0.391203</td>\n",
       "      <td>-0.823968</td>\n",
       "      <td>-0.824352</td>\n",
       "      <td>0.158654</td>\n",
       "      <td>0.640648</td>\n",
       "      <td>0.018054</td>\n",
       "      <td>0.562864</td>\n",
       "      <td>0.678170</td>\n",
       "      <td>0.437788</td>\n",
       "      <td>0.490286</td>\n",
       "    </tr>\n",
       "  </tbody>\n",
       "</table>\n",
       "<p>3 rows × 102 columns</p>\n",
       "</div>"
      ],
      "text/plain": [
       "   start_time  lobby_type   r1_hero  r1_level     r1_xp   r1_gold     r1_lh  \\\n",
       "0   -2.544364    1.540688 -1.244228  1.400808  1.525972  0.734957  0.969743   \n",
       "1   -2.540452   -0.927798 -0.292258  0.501314 -0.080139 -0.247570 -0.246859   \n",
       "2   -2.539231    1.540688 -0.568637  0.501314  0.151070  0.263085  1.190944   \n",
       "\n",
       "   r1_kills  r1_deaths  r1_items  ...  radiant_ward_sentry_count  \\\n",
       "0 -0.537757  -0.578083 -0.509023  ...                  -0.987486   \n",
       "1 -0.537757   1.017574  1.492930  ...                  -0.987486   \n",
       "2 -0.537757  -0.578083  1.492930  ...                   0.391203   \n",
       "\n",
       "   radiant_first_ward_time  dire_bottle_time  dire_courier_time  \\\n",
       "0                 1.066448         -0.041743          -0.262922   \n",
       "1                -0.338591          0.578946          -0.262922   \n",
       "2                -0.823968         -0.824352           0.158654   \n",
       "\n",
       "   dire_flying_courier_time  dire_tpscroll_count  dire_boots_count  \\\n",
       "0                  0.640648             0.018054          0.562864   \n",
       "1                  0.379585             1.066668          0.562864   \n",
       "2                  0.640648             0.018054          0.562864   \n",
       "\n",
       "   dire_ward_observer_count  dire_ward_sentry_count  dire_first_ward_time  \n",
       "0                 -0.551154                1.846004             -1.121494  \n",
       "1                  0.678170                0.437788              0.043947  \n",
       "2                  0.678170                0.437788              0.490286  \n",
       "\n",
       "[3 rows x 102 columns]"
      ]
     },
     "execution_count": 107,
     "metadata": {},
     "output_type": "execute_result"
    }
   ],
   "source": [
    "data_sc.head(3)"
   ]
  },
  {
   "cell_type": "markdown",
   "metadata": {},
   "source": [
    "По сравнению с градиентными бустингом, скорость выше, качество лучше. \\\n",
    "Мы не учитывали наличие категориальных признаков. Для начала попробуем их удалить."
   ]
  },
  {
   "cell_type": "code",
   "execution_count": 108,
   "metadata": {},
   "outputs": [],
   "source": [
    "data_sc_cl = data_sc.drop(categ, axis = 1)"
   ]
  },
  {
   "cell_type": "code",
   "execution_count": 109,
   "metadata": {},
   "outputs": [
    {
     "data": {
      "text/html": [
       "<div>\n",
       "<style scoped>\n",
       "    .dataframe tbody tr th:only-of-type {\n",
       "        vertical-align: middle;\n",
       "    }\n",
       "\n",
       "    .dataframe tbody tr th {\n",
       "        vertical-align: top;\n",
       "    }\n",
       "\n",
       "    .dataframe thead th {\n",
       "        text-align: right;\n",
       "    }\n",
       "</style>\n",
       "<table border=\"1\" class=\"dataframe\">\n",
       "  <thead>\n",
       "    <tr style=\"text-align: right;\">\n",
       "      <th></th>\n",
       "      <th>start_time</th>\n",
       "      <th>r1_level</th>\n",
       "      <th>r1_xp</th>\n",
       "      <th>r1_gold</th>\n",
       "      <th>r1_lh</th>\n",
       "      <th>r1_kills</th>\n",
       "      <th>r1_deaths</th>\n",
       "      <th>r1_items</th>\n",
       "      <th>r2_level</th>\n",
       "      <th>r2_xp</th>\n",
       "      <th>...</th>\n",
       "      <th>radiant_ward_sentry_count</th>\n",
       "      <th>radiant_first_ward_time</th>\n",
       "      <th>dire_bottle_time</th>\n",
       "      <th>dire_courier_time</th>\n",
       "      <th>dire_flying_courier_time</th>\n",
       "      <th>dire_tpscroll_count</th>\n",
       "      <th>dire_boots_count</th>\n",
       "      <th>dire_ward_observer_count</th>\n",
       "      <th>dire_ward_sentry_count</th>\n",
       "      <th>dire_first_ward_time</th>\n",
       "    </tr>\n",
       "  </thead>\n",
       "  <tbody>\n",
       "    <tr>\n",
       "      <th>0</th>\n",
       "      <td>-2.544364</td>\n",
       "      <td>1.400808</td>\n",
       "      <td>1.525972</td>\n",
       "      <td>0.734957</td>\n",
       "      <td>0.969743</td>\n",
       "      <td>-0.537757</td>\n",
       "      <td>-0.578083</td>\n",
       "      <td>-0.509023</td>\n",
       "      <td>-0.332256</td>\n",
       "      <td>-0.625222</td>\n",
       "      <td>...</td>\n",
       "      <td>-0.987486</td>\n",
       "      <td>1.066448</td>\n",
       "      <td>-0.041743</td>\n",
       "      <td>-0.262922</td>\n",
       "      <td>0.640648</td>\n",
       "      <td>0.018054</td>\n",
       "      <td>0.562864</td>\n",
       "      <td>-0.551154</td>\n",
       "      <td>1.846004</td>\n",
       "      <td>-1.121494</td>\n",
       "    </tr>\n",
       "    <tr>\n",
       "      <th>1</th>\n",
       "      <td>-2.540452</td>\n",
       "      <td>0.501314</td>\n",
       "      <td>-0.080139</td>\n",
       "      <td>-0.247570</td>\n",
       "      <td>-0.246859</td>\n",
       "      <td>-0.537757</td>\n",
       "      <td>1.017574</td>\n",
       "      <td>1.492930</td>\n",
       "      <td>0.578881</td>\n",
       "      <td>0.732454</td>\n",
       "      <td>...</td>\n",
       "      <td>-0.987486</td>\n",
       "      <td>-0.338591</td>\n",
       "      <td>0.578946</td>\n",
       "      <td>-0.262922</td>\n",
       "      <td>0.379585</td>\n",
       "      <td>1.066668</td>\n",
       "      <td>0.562864</td>\n",
       "      <td>0.678170</td>\n",
       "      <td>0.437788</td>\n",
       "      <td>0.043947</td>\n",
       "    </tr>\n",
       "    <tr>\n",
       "      <th>2</th>\n",
       "      <td>-2.539231</td>\n",
       "      <td>0.501314</td>\n",
       "      <td>0.151070</td>\n",
       "      <td>0.263085</td>\n",
       "      <td>1.190944</td>\n",
       "      <td>-0.537757</td>\n",
       "      <td>-0.578083</td>\n",
       "      <td>1.492930</td>\n",
       "      <td>-0.332256</td>\n",
       "      <td>0.224676</td>\n",
       "      <td>...</td>\n",
       "      <td>0.391203</td>\n",
       "      <td>-0.823968</td>\n",
       "      <td>-0.824352</td>\n",
       "      <td>0.158654</td>\n",
       "      <td>0.640648</td>\n",
       "      <td>0.018054</td>\n",
       "      <td>0.562864</td>\n",
       "      <td>0.678170</td>\n",
       "      <td>0.437788</td>\n",
       "      <td>0.490286</td>\n",
       "    </tr>\n",
       "  </tbody>\n",
       "</table>\n",
       "<p>3 rows × 91 columns</p>\n",
       "</div>"
      ],
      "text/plain": [
       "   start_time  r1_level     r1_xp   r1_gold     r1_lh  r1_kills  r1_deaths  \\\n",
       "0   -2.544364  1.400808  1.525972  0.734957  0.969743 -0.537757  -0.578083   \n",
       "1   -2.540452  0.501314 -0.080139 -0.247570 -0.246859 -0.537757   1.017574   \n",
       "2   -2.539231  0.501314  0.151070  0.263085  1.190944 -0.537757  -0.578083   \n",
       "\n",
       "   r1_items  r2_level     r2_xp  ...  radiant_ward_sentry_count  \\\n",
       "0 -0.509023 -0.332256 -0.625222  ...                  -0.987486   \n",
       "1  1.492930  0.578881  0.732454  ...                  -0.987486   \n",
       "2  1.492930 -0.332256  0.224676  ...                   0.391203   \n",
       "\n",
       "   radiant_first_ward_time  dire_bottle_time  dire_courier_time  \\\n",
       "0                 1.066448         -0.041743          -0.262922   \n",
       "1                -0.338591          0.578946          -0.262922   \n",
       "2                -0.823968         -0.824352           0.158654   \n",
       "\n",
       "   dire_flying_courier_time  dire_tpscroll_count  dire_boots_count  \\\n",
       "0                  0.640648             0.018054          0.562864   \n",
       "1                  0.379585             1.066668          0.562864   \n",
       "2                  0.640648             0.018054          0.562864   \n",
       "\n",
       "   dire_ward_observer_count  dire_ward_sentry_count  dire_first_ward_time  \n",
       "0                 -0.551154                1.846004             -1.121494  \n",
       "1                  0.678170                0.437788              0.043947  \n",
       "2                  0.678170                0.437788              0.490286  \n",
       "\n",
       "[3 rows x 91 columns]"
      ]
     },
     "execution_count": 109,
     "metadata": {},
     "output_type": "execute_result"
    }
   ],
   "source": [
    "data_sc_cl.head(3)"
   ]
  },
  {
   "cell_type": "markdown",
   "metadata": {},
   "source": [
    "### Вопрос 2.2"
   ]
  },
  {
   "cell_type": "code",
   "execution_count": 110,
   "metadata": {},
   "outputs": [
    {
     "name": "stdout",
     "output_type": "stream",
     "text": [
      "C=0.01 - Time elapsed: 0:00:02.091892  Score_norm: 0.7164004932889204\n",
      "C=0.1 - Time elapsed: 0:00:02.324698  Score_norm: 0.7163745519438582\n",
      "C=1.0 - Time elapsed: 0:00:02.235164  Score_norm: 0.7163709541660922\n",
      "C=10.0 - Time elapsed: 0:00:02.144730  Score_norm: 0.7163708209539857\n",
      "C=100.0 - Time elapsed: 0:00:02.382829  Score_norm: 0.7163706069067349\n"
     ]
    }
   ],
   "source": [
    "for c in np.logspace(-2,2, num = 5):\n",
    "    start_time = datetime.datetime.now()\n",
    "    \n",
    "    clf_lr = LogisticRegression(C = c)\n",
    "    score = cross_val_score(clf_lr, X = data_sc_cl, y = y, cv = kf, scoring = 'roc_auc')\n",
    "    score_norm = np.mean(score, axis=0)\n",
    "    \n",
    "    print ('C={} - Time elapsed:'.format(c), datetime.datetime.now() - start_time,  ' Score_norm:', score_norm)"
   ]
  },
  {
   "cell_type": "markdown",
   "metadata": {},
   "source": [
    "Качество не изменилось. Скорость тоже\n",
    "### Вопрос 2.3\n",
    "Также есть возможность использовать мешок слов"
   ]
  },
  {
   "cell_type": "code",
   "execution_count": 60,
   "metadata": {},
   "outputs": [
    {
     "name": "stdout",
     "output_type": "stream",
     "text": [
      "[11, 67, 29, 20, 105, 4, 42, 21, 37, 84, 49, 26, 39, 88, 79, 7, 12, 33, 98, 27, 22, 66, 86, 80, 30, 75, 41, 96, 48, 15, 102, 13, 72, 93, 69, 25, 8, 28, 65, 55, 52, 3, 73, 57, 36, 101, 47, 35, 83, 100, 44, 17, 91, 53, 90, 19, 74, 76, 99, 1, 94, 82, 60, 112, 31, 85, 61, 70, 68, 51, 2, 50, 71, 23, 77, 16, 63, 92, 81, 18, 59, 95, 64, 58, 43, 104, 40, 87, 10, 14, 110, 38, 46, 54, 97, 89, 5, 62, 6, 78, 106, 34, 56, 103, 109, 45, 9, 32] \n",
      " len -  108\n"
     ]
    }
   ],
   "source": [
    "s = pd.unique(data[['r1_hero','r2_hero','r3_hero','r4_hero','r5_hero', 'd1_hero', 'd2_hero',\\\n",
    "          'd3_hero', 'd4_hero', 'd5_hero']].values.ravel())\n",
    "s = list(s)\n",
    "print(s, '\\n', 'len - ', len(s))"
   ]
  },
  {
   "cell_type": "code",
   "execution_count": 61,
   "metadata": {},
   "outputs": [
    {
     "name": "stdout",
     "output_type": "stream",
     "text": [
      "7      42353\n",
      "11     36950\n",
      "112    35920\n",
      "50     34602\n",
      "72     34462\n",
      "       ...  \n",
      "66       818\n",
      "80       767\n",
      "103      714\n",
      "58       604\n",
      "109      173\n",
      "Length: 108, dtype: int64\n"
     ]
    }
   ],
   "source": [
    "# самые популярные герои\n",
    "s1 = pd.Series(data[['r1_hero','r2_hero','r3_hero','r4_hero','r5_hero', 'd1_hero', 'd2_hero',\\\n",
    "          'd3_hero', 'd4_hero', 'd5_hero']].values.ravel()).value_counts()\n",
    "print(s1)"
   ]
  },
  {
   "cell_type": "code",
   "execution_count": 64,
   "metadata": {},
   "outputs": [],
   "source": [
    "# реализация мешка слов\n",
    "\n",
    "N = 108 # число различных героев\n",
    "\n",
    "X_pick = np.zeros((len(data), N))\n",
    "\n",
    "for p in range(1,6):\n",
    "    r = data.columns.get_loc('r%d_hero' % p)\n",
    "    d = data.columns.get_loc('d%d_hero' % p)\n",
    "    for i, match_id in enumerate(data.index):\n",
    "        r_col = data.iloc[i, r]\n",
    "        X_pick[i, s.index(r_col) - 1] = 1\n",
    "        \n",
    "        d_col = data.iloc[i, d]\n",
    "        X_pick[i, s.index(d_col) - 1] = -1"
   ]
  },
  {
   "cell_type": "code",
   "execution_count": 67,
   "metadata": {},
   "outputs": [],
   "source": [
    "X = data.drop(['lobby_type','r1_hero','r2_hero','r3_hero','r4_hero','r5_hero', 'd1_hero', 'd2_hero',\\\n",
    "          'd3_hero', 'd4_hero', 'd5_hero'], axis = 1)\n",
    "X = pd.concat([X,pd.DataFrame(X_pick, index = X.index)], axis = 1)"
   ]
  },
  {
   "cell_type": "code",
   "execution_count": 68,
   "metadata": {},
   "outputs": [],
   "source": [
    "# масштабирование всех числовых признаков\n",
    "X_sc = pd.DataFrame(scaler.fit_transform(X), columns = X.columns)"
   ]
  },
  {
   "cell_type": "code",
   "execution_count": 69,
   "metadata": {},
   "outputs": [
    {
     "data": {
      "text/html": [
       "<div>\n",
       "<style scoped>\n",
       "    .dataframe tbody tr th:only-of-type {\n",
       "        vertical-align: middle;\n",
       "    }\n",
       "\n",
       "    .dataframe tbody tr th {\n",
       "        vertical-align: top;\n",
       "    }\n",
       "\n",
       "    .dataframe thead th {\n",
       "        text-align: right;\n",
       "    }\n",
       "</style>\n",
       "<table border=\"1\" class=\"dataframe\">\n",
       "  <thead>\n",
       "    <tr style=\"text-align: right;\">\n",
       "      <th></th>\n",
       "      <th>start_time</th>\n",
       "      <th>r1_level</th>\n",
       "      <th>r1_xp</th>\n",
       "      <th>r1_gold</th>\n",
       "      <th>r1_lh</th>\n",
       "      <th>r1_kills</th>\n",
       "      <th>r1_deaths</th>\n",
       "      <th>r1_items</th>\n",
       "      <th>r2_level</th>\n",
       "      <th>r2_xp</th>\n",
       "      <th>...</th>\n",
       "      <th>98</th>\n",
       "      <th>99</th>\n",
       "      <th>100</th>\n",
       "      <th>101</th>\n",
       "      <th>102</th>\n",
       "      <th>103</th>\n",
       "      <th>104</th>\n",
       "      <th>105</th>\n",
       "      <th>106</th>\n",
       "      <th>107</th>\n",
       "    </tr>\n",
       "  </thead>\n",
       "  <tbody>\n",
       "    <tr>\n",
       "      <th>0</th>\n",
       "      <td>-2.544364</td>\n",
       "      <td>1.400808</td>\n",
       "      <td>1.525972</td>\n",
       "      <td>0.734957</td>\n",
       "      <td>0.969743</td>\n",
       "      <td>-0.537757</td>\n",
       "      <td>-0.578083</td>\n",
       "      <td>-0.509023</td>\n",
       "      <td>-0.332256</td>\n",
       "      <td>-0.625222</td>\n",
       "      <td>...</td>\n",
       "      <td>-0.000519</td>\n",
       "      <td>0.005513</td>\n",
       "      <td>-0.007595</td>\n",
       "      <td>-0.001127</td>\n",
       "      <td>0.003361</td>\n",
       "      <td>-0.000731</td>\n",
       "      <td>0.003298</td>\n",
       "      <td>-0.006653</td>\n",
       "      <td>-0.002313</td>\n",
       "      <td>1.568231</td>\n",
       "    </tr>\n",
       "    <tr>\n",
       "      <th>1</th>\n",
       "      <td>-2.540452</td>\n",
       "      <td>0.501314</td>\n",
       "      <td>-0.080139</td>\n",
       "      <td>-0.247570</td>\n",
       "      <td>-0.246859</td>\n",
       "      <td>-0.537757</td>\n",
       "      <td>1.017574</td>\n",
       "      <td>1.492930</td>\n",
       "      <td>0.578881</td>\n",
       "      <td>0.732454</td>\n",
       "      <td>...</td>\n",
       "      <td>-0.000519</td>\n",
       "      <td>0.005513</td>\n",
       "      <td>-0.007595</td>\n",
       "      <td>-0.001127</td>\n",
       "      <td>0.003361</td>\n",
       "      <td>-0.000731</td>\n",
       "      <td>0.003298</td>\n",
       "      <td>-0.006653</td>\n",
       "      <td>-0.002313</td>\n",
       "      <td>-0.056514</td>\n",
       "    </tr>\n",
       "    <tr>\n",
       "      <th>2</th>\n",
       "      <td>-2.539231</td>\n",
       "      <td>0.501314</td>\n",
       "      <td>0.151070</td>\n",
       "      <td>0.263085</td>\n",
       "      <td>1.190944</td>\n",
       "      <td>-0.537757</td>\n",
       "      <td>-0.578083</td>\n",
       "      <td>1.492930</td>\n",
       "      <td>-0.332256</td>\n",
       "      <td>0.224676</td>\n",
       "      <td>...</td>\n",
       "      <td>-0.000519</td>\n",
       "      <td>0.005513</td>\n",
       "      <td>-0.007595</td>\n",
       "      <td>-0.001127</td>\n",
       "      <td>0.003361</td>\n",
       "      <td>-0.000731</td>\n",
       "      <td>0.003298</td>\n",
       "      <td>-0.006653</td>\n",
       "      <td>-0.002313</td>\n",
       "      <td>-0.056514</td>\n",
       "    </tr>\n",
       "    <tr>\n",
       "      <th>3</th>\n",
       "      <td>-2.532622</td>\n",
       "      <td>0.501314</td>\n",
       "      <td>0.962950</td>\n",
       "      <td>-0.198013</td>\n",
       "      <td>0.306142</td>\n",
       "      <td>-0.537757</td>\n",
       "      <td>-0.578083</td>\n",
       "      <td>-1.309804</td>\n",
       "      <td>-1.243393</td>\n",
       "      <td>-1.170813</td>\n",
       "      <td>...</td>\n",
       "      <td>-0.000519</td>\n",
       "      <td>0.005513</td>\n",
       "      <td>-0.007595</td>\n",
       "      <td>-0.001127</td>\n",
       "      <td>0.003361</td>\n",
       "      <td>-0.000731</td>\n",
       "      <td>0.003298</td>\n",
       "      <td>-0.006653</td>\n",
       "      <td>-0.002313</td>\n",
       "      <td>-0.056514</td>\n",
       "    </tr>\n",
       "    <tr>\n",
       "      <th>4</th>\n",
       "      <td>-2.529221</td>\n",
       "      <td>0.501314</td>\n",
       "      <td>0.348745</td>\n",
       "      <td>-0.124754</td>\n",
       "      <td>-0.357459</td>\n",
       "      <td>0.968527</td>\n",
       "      <td>-0.578083</td>\n",
       "      <td>-0.108632</td>\n",
       "      <td>-1.243393</td>\n",
       "      <td>-1.008757</td>\n",
       "      <td>...</td>\n",
       "      <td>-0.000519</td>\n",
       "      <td>0.005513</td>\n",
       "      <td>-0.007595</td>\n",
       "      <td>-0.001127</td>\n",
       "      <td>0.003361</td>\n",
       "      <td>-0.000731</td>\n",
       "      <td>0.003298</td>\n",
       "      <td>-0.006653</td>\n",
       "      <td>-0.002313</td>\n",
       "      <td>-0.056514</td>\n",
       "    </tr>\n",
       "  </tbody>\n",
       "</table>\n",
       "<p>5 rows × 199 columns</p>\n",
       "</div>"
      ],
      "text/plain": [
       "   start_time  r1_level     r1_xp   r1_gold     r1_lh  r1_kills  r1_deaths  \\\n",
       "0   -2.544364  1.400808  1.525972  0.734957  0.969743 -0.537757  -0.578083   \n",
       "1   -2.540452  0.501314 -0.080139 -0.247570 -0.246859 -0.537757   1.017574   \n",
       "2   -2.539231  0.501314  0.151070  0.263085  1.190944 -0.537757  -0.578083   \n",
       "3   -2.532622  0.501314  0.962950 -0.198013  0.306142 -0.537757  -0.578083   \n",
       "4   -2.529221  0.501314  0.348745 -0.124754 -0.357459  0.968527  -0.578083   \n",
       "\n",
       "   r1_items  r2_level     r2_xp  ...        98        99       100       101  \\\n",
       "0 -0.509023 -0.332256 -0.625222  ... -0.000519  0.005513 -0.007595 -0.001127   \n",
       "1  1.492930  0.578881  0.732454  ... -0.000519  0.005513 -0.007595 -0.001127   \n",
       "2  1.492930 -0.332256  0.224676  ... -0.000519  0.005513 -0.007595 -0.001127   \n",
       "3 -1.309804 -1.243393 -1.170813  ... -0.000519  0.005513 -0.007595 -0.001127   \n",
       "4 -0.108632 -1.243393 -1.008757  ... -0.000519  0.005513 -0.007595 -0.001127   \n",
       "\n",
       "        102       103       104       105       106       107  \n",
       "0  0.003361 -0.000731  0.003298 -0.006653 -0.002313  1.568231  \n",
       "1  0.003361 -0.000731  0.003298 -0.006653 -0.002313 -0.056514  \n",
       "2  0.003361 -0.000731  0.003298 -0.006653 -0.002313 -0.056514  \n",
       "3  0.003361 -0.000731  0.003298 -0.006653 -0.002313 -0.056514  \n",
       "4  0.003361 -0.000731  0.003298 -0.006653 -0.002313 -0.056514  \n",
       "\n",
       "[5 rows x 199 columns]"
      ]
     },
     "execution_count": 69,
     "metadata": {},
     "output_type": "execute_result"
    }
   ],
   "source": [
    "X_sc.head()"
   ]
  },
  {
   "cell_type": "markdown",
   "metadata": {},
   "source": [
    "### Вопрос 2.4"
   ]
  },
  {
   "cell_type": "code",
   "execution_count": 111,
   "metadata": {},
   "outputs": [
    {
     "name": "stdout",
     "output_type": "stream",
     "text": [
      "C=0.01 - Time elapsed: 0:00:04.798880  Score_norm: 0.7519709169561621\n",
      "C=0.1 - Time elapsed: 0:00:05.319010  Score_norm: 0.7519242288893081\n",
      "C=1.0 - Time elapsed: 0:00:05.443034  Score_norm: 0.7519175182789677\n",
      "C=10.0 - Time elapsed: 0:00:05.150142  Score_norm: 0.7519173378060957\n",
      "C=100.0 - Time elapsed: 0:00:05.463428  Score_norm: 0.7519168015214113\n"
     ]
    }
   ],
   "source": [
    "# дольше обучается, потому что много признаков (199 штук)\n",
    "# но качество лучше, чем раньше\n",
    "\n",
    "kf = KFold(n_splits = 5, random_state=241, shuffle=True)\n",
    "for c in np.logspace(-2,2, num = 5):\n",
    "    start_time = datetime.datetime.now()\n",
    "    \n",
    "    clf_lr = LogisticRegression(C = c, max_iter = 150)\n",
    "    score = cross_val_score(clf_lr, X = X_sc, y = y, cv = kf, scoring = 'roc_auc')\n",
    "    score_norm = np.mean(score, axis=0)\n",
    "    \n",
    "    print ('C={} - Time elapsed:'.format(c), datetime.datetime.now() - start_time,  ' Score_norm:', score_norm)"
   ]
  },
  {
   "cell_type": "markdown",
   "metadata": {},
   "source": [
    "Лучшим алгоритмом можно считать логистическую регрессию (с коэффициентом регуляризации 0.01) с использованием мешка слов для категориальных признаков."
   ]
  },
  {
   "cell_type": "markdown",
   "metadata": {},
   "source": [
    "# Проверка на тесте"
   ]
  },
  {
   "cell_type": "code",
   "execution_count": 73,
   "metadata": {},
   "outputs": [
    {
     "data": {
      "text/html": [
       "<div>\n",
       "<style scoped>\n",
       "    .dataframe tbody tr th:only-of-type {\n",
       "        vertical-align: middle;\n",
       "    }\n",
       "\n",
       "    .dataframe tbody tr th {\n",
       "        vertical-align: top;\n",
       "    }\n",
       "\n",
       "    .dataframe thead th {\n",
       "        text-align: right;\n",
       "    }\n",
       "</style>\n",
       "<table border=\"1\" class=\"dataframe\">\n",
       "  <thead>\n",
       "    <tr style=\"text-align: right;\">\n",
       "      <th></th>\n",
       "      <th>start_time</th>\n",
       "      <th>lobby_type</th>\n",
       "      <th>r1_hero</th>\n",
       "      <th>r1_level</th>\n",
       "      <th>r1_xp</th>\n",
       "      <th>r1_gold</th>\n",
       "      <th>r1_lh</th>\n",
       "      <th>r1_kills</th>\n",
       "      <th>r1_deaths</th>\n",
       "      <th>r1_items</th>\n",
       "      <th>...</th>\n",
       "      <th>radiant_ward_sentry_count</th>\n",
       "      <th>radiant_first_ward_time</th>\n",
       "      <th>dire_bottle_time</th>\n",
       "      <th>dire_courier_time</th>\n",
       "      <th>dire_flying_courier_time</th>\n",
       "      <th>dire_tpscroll_count</th>\n",
       "      <th>dire_boots_count</th>\n",
       "      <th>dire_ward_observer_count</th>\n",
       "      <th>dire_ward_sentry_count</th>\n",
       "      <th>dire_first_ward_time</th>\n",
       "    </tr>\n",
       "    <tr>\n",
       "      <th>match_id</th>\n",
       "      <th></th>\n",
       "      <th></th>\n",
       "      <th></th>\n",
       "      <th></th>\n",
       "      <th></th>\n",
       "      <th></th>\n",
       "      <th></th>\n",
       "      <th></th>\n",
       "      <th></th>\n",
       "      <th></th>\n",
       "      <th></th>\n",
       "      <th></th>\n",
       "      <th></th>\n",
       "      <th></th>\n",
       "      <th></th>\n",
       "      <th></th>\n",
       "      <th></th>\n",
       "      <th></th>\n",
       "      <th></th>\n",
       "      <th></th>\n",
       "      <th></th>\n",
       "    </tr>\n",
       "  </thead>\n",
       "  <tbody>\n",
       "    <tr>\n",
       "      <th>6</th>\n",
       "      <td>1430287923</td>\n",
       "      <td>0</td>\n",
       "      <td>93</td>\n",
       "      <td>4</td>\n",
       "      <td>1103</td>\n",
       "      <td>1089</td>\n",
       "      <td>8</td>\n",
       "      <td>0</td>\n",
       "      <td>1</td>\n",
       "      <td>9</td>\n",
       "      <td>...</td>\n",
       "      <td>0</td>\n",
       "      <td>12.0</td>\n",
       "      <td>247.0</td>\n",
       "      <td>-86.0</td>\n",
       "      <td>272.0</td>\n",
       "      <td>3</td>\n",
       "      <td>4</td>\n",
       "      <td>2</td>\n",
       "      <td>0</td>\n",
       "      <td>118.0</td>\n",
       "    </tr>\n",
       "    <tr>\n",
       "      <th>7</th>\n",
       "      <td>1430293357</td>\n",
       "      <td>1</td>\n",
       "      <td>20</td>\n",
       "      <td>2</td>\n",
       "      <td>556</td>\n",
       "      <td>570</td>\n",
       "      <td>1</td>\n",
       "      <td>0</td>\n",
       "      <td>0</td>\n",
       "      <td>9</td>\n",
       "      <td>...</td>\n",
       "      <td>2</td>\n",
       "      <td>-29.0</td>\n",
       "      <td>168.0</td>\n",
       "      <td>-54.0</td>\n",
       "      <td>NaN</td>\n",
       "      <td>3</td>\n",
       "      <td>2</td>\n",
       "      <td>2</td>\n",
       "      <td>1</td>\n",
       "      <td>16.0</td>\n",
       "    </tr>\n",
       "    <tr>\n",
       "      <th>10</th>\n",
       "      <td>1430301774</td>\n",
       "      <td>1</td>\n",
       "      <td>112</td>\n",
       "      <td>2</td>\n",
       "      <td>751</td>\n",
       "      <td>808</td>\n",
       "      <td>1</td>\n",
       "      <td>0</td>\n",
       "      <td>0</td>\n",
       "      <td>13</td>\n",
       "      <td>...</td>\n",
       "      <td>1</td>\n",
       "      <td>-22.0</td>\n",
       "      <td>46.0</td>\n",
       "      <td>-87.0</td>\n",
       "      <td>186.0</td>\n",
       "      <td>1</td>\n",
       "      <td>3</td>\n",
       "      <td>3</td>\n",
       "      <td>0</td>\n",
       "      <td>-34.0</td>\n",
       "    </tr>\n",
       "    <tr>\n",
       "      <th>13</th>\n",
       "      <td>1430323933</td>\n",
       "      <td>1</td>\n",
       "      <td>27</td>\n",
       "      <td>3</td>\n",
       "      <td>708</td>\n",
       "      <td>903</td>\n",
       "      <td>1</td>\n",
       "      <td>1</td>\n",
       "      <td>1</td>\n",
       "      <td>11</td>\n",
       "      <td>...</td>\n",
       "      <td>2</td>\n",
       "      <td>-49.0</td>\n",
       "      <td>30.0</td>\n",
       "      <td>-89.0</td>\n",
       "      <td>210.0</td>\n",
       "      <td>3</td>\n",
       "      <td>4</td>\n",
       "      <td>2</td>\n",
       "      <td>1</td>\n",
       "      <td>-26.0</td>\n",
       "    </tr>\n",
       "    <tr>\n",
       "      <th>16</th>\n",
       "      <td>1430331112</td>\n",
       "      <td>1</td>\n",
       "      <td>39</td>\n",
       "      <td>4</td>\n",
       "      <td>1259</td>\n",
       "      <td>661</td>\n",
       "      <td>4</td>\n",
       "      <td>0</td>\n",
       "      <td>0</td>\n",
       "      <td>9</td>\n",
       "      <td>...</td>\n",
       "      <td>0</td>\n",
       "      <td>36.0</td>\n",
       "      <td>180.0</td>\n",
       "      <td>-86.0</td>\n",
       "      <td>180.0</td>\n",
       "      <td>1</td>\n",
       "      <td>3</td>\n",
       "      <td>2</td>\n",
       "      <td>1</td>\n",
       "      <td>-33.0</td>\n",
       "    </tr>\n",
       "  </tbody>\n",
       "</table>\n",
       "<p>5 rows × 102 columns</p>\n",
       "</div>"
      ],
      "text/plain": [
       "          start_time  lobby_type  r1_hero  r1_level  r1_xp  r1_gold  r1_lh  \\\n",
       "match_id                                                                     \n",
       "6         1430287923           0       93         4   1103     1089      8   \n",
       "7         1430293357           1       20         2    556      570      1   \n",
       "10        1430301774           1      112         2    751      808      1   \n",
       "13        1430323933           1       27         3    708      903      1   \n",
       "16        1430331112           1       39         4   1259      661      4   \n",
       "\n",
       "          r1_kills  r1_deaths  r1_items  ...  radiant_ward_sentry_count  \\\n",
       "match_id                                 ...                              \n",
       "6                0          1         9  ...                          0   \n",
       "7                0          0         9  ...                          2   \n",
       "10               0          0        13  ...                          1   \n",
       "13               1          1        11  ...                          2   \n",
       "16               0          0         9  ...                          0   \n",
       "\n",
       "          radiant_first_ward_time  dire_bottle_time  dire_courier_time  \\\n",
       "match_id                                                                 \n",
       "6                            12.0             247.0              -86.0   \n",
       "7                           -29.0             168.0              -54.0   \n",
       "10                          -22.0              46.0              -87.0   \n",
       "13                          -49.0              30.0              -89.0   \n",
       "16                           36.0             180.0              -86.0   \n",
       "\n",
       "          dire_flying_courier_time  dire_tpscroll_count  dire_boots_count  \\\n",
       "match_id                                                                    \n",
       "6                            272.0                    3                 4   \n",
       "7                              NaN                    3                 2   \n",
       "10                           186.0                    1                 3   \n",
       "13                           210.0                    3                 4   \n",
       "16                           180.0                    1                 3   \n",
       "\n",
       "          dire_ward_observer_count  dire_ward_sentry_count  \\\n",
       "match_id                                                     \n",
       "6                                2                       0   \n",
       "7                                2                       1   \n",
       "10                               3                       0   \n",
       "13                               2                       1   \n",
       "16                               2                       1   \n",
       "\n",
       "          dire_first_ward_time  \n",
       "match_id                        \n",
       "6                        118.0  \n",
       "7                         16.0  \n",
       "10                       -34.0  \n",
       "13                       -26.0  \n",
       "16                       -33.0  \n",
       "\n",
       "[5 rows x 102 columns]"
      ]
     },
     "execution_count": 73,
     "metadata": {},
     "output_type": "execute_result"
    }
   ],
   "source": [
    "data_test = pd.read_csv('../Downloads/features_test.csv', index_col='match_id')\n",
    "data_test.head()"
   ]
  },
  {
   "cell_type": "code",
   "execution_count": 74,
   "metadata": {},
   "outputs": [
    {
     "data": {
      "text/plain": [
       "array(['start_time', 'lobby_type', 'r1_hero', 'r1_level', 'r1_xp',\n",
       "       'r1_gold', 'r1_lh', 'r1_kills', 'r1_deaths', 'r1_items', 'r2_hero',\n",
       "       'r2_level', 'r2_xp', 'r2_gold', 'r2_lh', 'r2_kills', 'r2_deaths',\n",
       "       'r2_items', 'r3_hero', 'r3_level', 'r3_xp', 'r3_gold', 'r3_lh',\n",
       "       'r3_kills', 'r3_deaths', 'r3_items', 'r4_hero', 'r4_level',\n",
       "       'r4_xp', 'r4_gold', 'r4_lh', 'r4_kills', 'r4_deaths', 'r4_items',\n",
       "       'r5_hero', 'r5_level', 'r5_xp', 'r5_gold', 'r5_lh', 'r5_kills',\n",
       "       'r5_deaths', 'r5_items', 'd1_hero', 'd1_level', 'd1_xp', 'd1_gold',\n",
       "       'd1_lh', 'd1_kills', 'd1_deaths', 'd1_items', 'd2_hero',\n",
       "       'd2_level', 'd2_xp', 'd2_gold', 'd2_lh', 'd2_kills', 'd2_deaths',\n",
       "       'd2_items', 'd3_hero', 'd3_level', 'd3_xp', 'd3_gold', 'd3_lh',\n",
       "       'd3_kills', 'd3_deaths', 'd3_items', 'd4_hero', 'd4_level',\n",
       "       'd4_xp', 'd4_gold', 'd4_lh', 'd4_kills', 'd4_deaths', 'd4_items',\n",
       "       'd5_hero', 'd5_level', 'd5_xp', 'd5_gold', 'd5_lh', 'd5_kills',\n",
       "       'd5_deaths', 'd5_items', 'first_blood_time', 'first_blood_team',\n",
       "       'first_blood_player1', 'first_blood_player2',\n",
       "       'radiant_bottle_time', 'radiant_courier_time',\n",
       "       'radiant_flying_courier_time', 'radiant_tpscroll_count',\n",
       "       'radiant_boots_count', 'radiant_ward_observer_count',\n",
       "       'radiant_ward_sentry_count', 'radiant_first_ward_time',\n",
       "       'dire_bottle_time', 'dire_courier_time',\n",
       "       'dire_flying_courier_time', 'dire_tpscroll_count',\n",
       "       'dire_boots_count', 'dire_ward_observer_count',\n",
       "       'dire_ward_sentry_count', 'dire_first_ward_time'], dtype=object)"
      ]
     },
     "execution_count": 74,
     "metadata": {},
     "output_type": "execute_result"
    }
   ],
   "source": [
    "data_test.columns.values"
   ]
  },
  {
   "cell_type": "markdown",
   "metadata": {},
   "source": [
    "Нужно аналогичным образом заполнить пропуски и обработать категориальные признаки."
   ]
  },
  {
   "cell_type": "code",
   "execution_count": 75,
   "metadata": {},
   "outputs": [],
   "source": [
    "data_test.fillna(0, inplace = True)"
   ]
  },
  {
   "cell_type": "code",
   "execution_count": 76,
   "metadata": {},
   "outputs": [
    {
     "name": "stdout",
     "output_type": "stream",
     "text": [
      "[93, 102, 52, 53, 57, 26, 89, 20, 29, 39, 6, 65, 92, 43, 54, 34, 99, 5, 112, 11, 41, 91, 22, 10, 49, 27, 74, 2, 110, 25, 77, 62, 30, 85, 14, 64, 70, 3, 96, 97, 72, 31, 9, 63, 59, 7, 50, 51, 67, 35, 101, 106, 46, 12, 33, 48, 87, 36, 47, 28, 79, 17, 37, 55, 18, 4, 38, 68, 1, 88, 80, 95, 19, 42, 73, 44, 71, 21, 94, 84, 58, 13, 104, 69, 75, 15, 40, 86, 8, 45, 61, 90, 105, 23, 60, 16, 66, 100, 83, 98, 56, 81, 78, 76, 109, 103, 32, 82] \n",
      " len -  108\n"
     ]
    }
   ],
   "source": [
    "# нужно аналогично обработать категориальные признаки\n",
    "s2 = pd.unique(data_test[['r1_hero','r2_hero','r3_hero','r4_hero','r5_hero', 'd1_hero', 'd2_hero',\\\n",
    "          'd3_hero', 'd4_hero', 'd5_hero']].values.ravel())\n",
    "s2 = list(s2)\n",
    "print(s2, '\\n', 'len - ', len(s2))"
   ]
  },
  {
   "cell_type": "code",
   "execution_count": 77,
   "metadata": {},
   "outputs": [],
   "source": [
    "N = 108 #число различных героев\n",
    "\n",
    "X_pick = np.zeros((len(data_test), N))\n",
    "\n",
    "for p in range(1,6):\n",
    "    r = data_test.columns.get_loc('r%d_hero' % p)\n",
    "    d = data_test.columns.get_loc('d%d_hero' % p)\n",
    "    for i, match_id in enumerate(data_test.index):\n",
    "        r_col = data_test.iloc[i, r]\n",
    "        X_pick[i, s.index(r_col) - 1] = 1\n",
    "        \n",
    "        d_col = data_test.iloc[i, d]\n",
    "        X_pick[i, s.index(d_col) - 1] = -1"
   ]
  },
  {
   "cell_type": "code",
   "execution_count": 78,
   "metadata": {},
   "outputs": [],
   "source": [
    "X_test = data_test.drop(['lobby_type','r1_hero','r2_hero','r3_hero','r4_hero','r5_hero', 'd1_hero', 'd2_hero',\\\n",
    "          'd3_hero', 'd4_hero', 'd5_hero'], axis = 1)\n",
    "X_test = pd.concat([X_test,pd.DataFrame(X_pick, index = X_test.index)], axis = 1)"
   ]
  },
  {
   "cell_type": "code",
   "execution_count": 79,
   "metadata": {},
   "outputs": [
    {
     "data": {
      "text/html": [
       "<div>\n",
       "<style scoped>\n",
       "    .dataframe tbody tr th:only-of-type {\n",
       "        vertical-align: middle;\n",
       "    }\n",
       "\n",
       "    .dataframe tbody tr th {\n",
       "        vertical-align: top;\n",
       "    }\n",
       "\n",
       "    .dataframe thead th {\n",
       "        text-align: right;\n",
       "    }\n",
       "</style>\n",
       "<table border=\"1\" class=\"dataframe\">\n",
       "  <thead>\n",
       "    <tr style=\"text-align: right;\">\n",
       "      <th></th>\n",
       "      <th>start_time</th>\n",
       "      <th>r1_level</th>\n",
       "      <th>r1_xp</th>\n",
       "      <th>r1_gold</th>\n",
       "      <th>r1_lh</th>\n",
       "      <th>r1_kills</th>\n",
       "      <th>r1_deaths</th>\n",
       "      <th>r1_items</th>\n",
       "      <th>r2_level</th>\n",
       "      <th>r2_xp</th>\n",
       "      <th>...</th>\n",
       "      <th>98</th>\n",
       "      <th>99</th>\n",
       "      <th>100</th>\n",
       "      <th>101</th>\n",
       "      <th>102</th>\n",
       "      <th>103</th>\n",
       "      <th>104</th>\n",
       "      <th>105</th>\n",
       "      <th>106</th>\n",
       "      <th>107</th>\n",
       "    </tr>\n",
       "  </thead>\n",
       "  <tbody>\n",
       "    <tr>\n",
       "      <th>0</th>\n",
       "      <td>-2.514875</td>\n",
       "      <td>0.474746</td>\n",
       "      <td>-0.237743</td>\n",
       "      <td>-0.137094</td>\n",
       "      <td>-0.370005</td>\n",
       "      <td>-0.532732</td>\n",
       "      <td>1.003884</td>\n",
       "      <td>0.305165</td>\n",
       "      <td>-0.368985</td>\n",
       "      <td>0.003979</td>\n",
       "      <td>...</td>\n",
       "      <td>-0.01137</td>\n",
       "      <td>0.006531</td>\n",
       "      <td>-0.006884</td>\n",
       "      <td>-0.006187</td>\n",
       "      <td>0.000682</td>\n",
       "      <td>0.0</td>\n",
       "      <td>-0.003208</td>\n",
       "      <td>-0.007568</td>\n",
       "      <td>-0.009996</td>\n",
       "      <td>-0.044753</td>\n",
       "    </tr>\n",
       "    <tr>\n",
       "      <th>1</th>\n",
       "      <td>-2.513895</td>\n",
       "      <td>-1.365630</td>\n",
       "      <td>-1.207913</td>\n",
       "      <td>-1.255660</td>\n",
       "      <td>-1.145090</td>\n",
       "      <td>-0.532732</td>\n",
       "      <td>-0.593200</td>\n",
       "      <td>0.305165</td>\n",
       "      <td>0.567766</td>\n",
       "      <td>0.023887</td>\n",
       "      <td>...</td>\n",
       "      <td>-0.01137</td>\n",
       "      <td>0.006531</td>\n",
       "      <td>-6.576537</td>\n",
       "      <td>-0.006187</td>\n",
       "      <td>0.000682</td>\n",
       "      <td>0.0</td>\n",
       "      <td>-0.003208</td>\n",
       "      <td>-0.007568</td>\n",
       "      <td>-0.009996</td>\n",
       "      <td>-0.044753</td>\n",
       "    </tr>\n",
       "    <tr>\n",
       "      <th>2</th>\n",
       "      <td>-2.512377</td>\n",
       "      <td>-1.365630</td>\n",
       "      <td>-0.862057</td>\n",
       "      <td>-0.742715</td>\n",
       "      <td>-1.145090</td>\n",
       "      <td>-0.532732</td>\n",
       "      <td>-0.593200</td>\n",
       "      <td>1.898546</td>\n",
       "      <td>-1.305736</td>\n",
       "      <td>-1.375081</td>\n",
       "      <td>...</td>\n",
       "      <td>-0.01137</td>\n",
       "      <td>0.006531</td>\n",
       "      <td>-0.006884</td>\n",
       "      <td>-0.006187</td>\n",
       "      <td>0.000682</td>\n",
       "      <td>0.0</td>\n",
       "      <td>-0.003208</td>\n",
       "      <td>-0.007568</td>\n",
       "      <td>-0.009996</td>\n",
       "      <td>1.577007</td>\n",
       "    </tr>\n",
       "  </tbody>\n",
       "</table>\n",
       "<p>3 rows × 199 columns</p>\n",
       "</div>"
      ],
      "text/plain": [
       "   start_time  r1_level     r1_xp   r1_gold     r1_lh  r1_kills  r1_deaths  \\\n",
       "0   -2.514875  0.474746 -0.237743 -0.137094 -0.370005 -0.532732   1.003884   \n",
       "1   -2.513895 -1.365630 -1.207913 -1.255660 -1.145090 -0.532732  -0.593200   \n",
       "2   -2.512377 -1.365630 -0.862057 -0.742715 -1.145090 -0.532732  -0.593200   \n",
       "\n",
       "   r1_items  r2_level     r2_xp  ...       98        99       100       101  \\\n",
       "0  0.305165 -0.368985  0.003979  ... -0.01137  0.006531 -0.006884 -0.006187   \n",
       "1  0.305165  0.567766  0.023887  ... -0.01137  0.006531 -6.576537 -0.006187   \n",
       "2  1.898546 -1.305736 -1.375081  ... -0.01137  0.006531 -0.006884 -0.006187   \n",
       "\n",
       "        102  103       104       105       106       107  \n",
       "0  0.000682  0.0 -0.003208 -0.007568 -0.009996 -0.044753  \n",
       "1  0.000682  0.0 -0.003208 -0.007568 -0.009996 -0.044753  \n",
       "2  0.000682  0.0 -0.003208 -0.007568 -0.009996  1.577007  \n",
       "\n",
       "[3 rows x 199 columns]"
      ]
     },
     "execution_count": 79,
     "metadata": {},
     "output_type": "execute_result"
    }
   ],
   "source": [
    "X_test = pd.DataFrame(scaler.fit_transform(X_test), columns = X_test.columns)\n",
    "X_test.head(3)"
   ]
  },
  {
   "cell_type": "markdown",
   "metadata": {},
   "source": [
    "Проверим, не является ли полученный алгоритм константным"
   ]
  },
  {
   "cell_type": "code",
   "execution_count": 83,
   "metadata": {},
   "outputs": [
    {
     "data": {
      "text/plain": [
       "array([[0.17722857, 0.82277143],\n",
       "       [0.24391437, 0.75608563],\n",
       "       [0.81121329, 0.18878671],\n",
       "       ...,\n",
       "       [0.76617082, 0.23382918],\n",
       "       [0.3687855 , 0.6312145 ],\n",
       "       [0.57079002, 0.42920998]])"
      ]
     },
     "execution_count": 83,
     "metadata": {},
     "output_type": "execute_result"
    }
   ],
   "source": [
    "clf_lr = LogisticRegression(C = 0.01, max_iter = 150).fit(X_sc, y)\n",
    "clf_lr.predict_proba(X_test)"
   ]
  },
  {
   "cell_type": "code",
   "execution_count": 84,
   "metadata": {},
   "outputs": [
    {
     "data": {
      "text/plain": [
       "0.008721474723096688"
      ]
     },
     "execution_count": 84,
     "metadata": {},
     "output_type": "execute_result"
    }
   ],
   "source": [
    "clf_lr.predict_proba(X_test)[:, 1].min()"
   ]
  },
  {
   "cell_type": "code",
   "execution_count": 85,
   "metadata": {},
   "outputs": [
    {
     "data": {
      "text/plain": [
       "0.9963305890721873"
      ]
     },
     "execution_count": 85,
     "metadata": {},
     "output_type": "execute_result"
    }
   ],
   "source": [
    "clf_lr.predict_proba(X_test)[:, 1].max()"
   ]
  },
  {
   "cell_type": "markdown",
   "metadata": {},
   "source": [
    "Проверим полученную модель на адекватность"
   ]
  },
  {
   "cell_type": "code",
   "execution_count": 89,
   "metadata": {},
   "outputs": [],
   "source": [
    "answer = clf_lr.predict_proba(X_test)[:, 1]\n",
    "answer1 = [1 if answer[i]>=0.5 else 0 for i in range(len(answer))]"
   ]
  },
  {
   "cell_type": "code",
   "execution_count": 90,
   "metadata": {},
   "outputs": [
    {
     "data": {
      "text/plain": [
       "1    9176\n",
       "0    8001\n",
       "dtype: int64"
      ]
     },
     "execution_count": 90,
     "metadata": {},
     "output_type": "execute_result"
    }
   ],
   "source": [
    "pd.Series(answer1).value_counts()"
   ]
  },
  {
   "cell_type": "code",
   "execution_count": 91,
   "metadata": {},
   "outputs": [
    {
     "data": {
      "text/plain": [
       "1    50414\n",
       "0    46816\n",
       "Name: radiant_win, dtype: int64"
      ]
     },
     "execution_count": 91,
     "metadata": {},
     "output_type": "execute_result"
    }
   ],
   "source": [
    "y.value_counts()"
   ]
  },
  {
   "cell_type": "markdown",
   "metadata": {},
   "source": [
    "Создание файла"
   ]
  },
  {
   "cell_type": "code",
   "execution_count": 97,
   "metadata": {},
   "outputs": [],
   "source": [
    "prediction = pd.DataFrame(data = answer, index = data_test.index, columns = ['radiant_win'])"
   ]
  },
  {
   "cell_type": "code",
   "execution_count": 99,
   "metadata": {},
   "outputs": [
    {
     "data": {
      "text/html": [
       "<div>\n",
       "<style scoped>\n",
       "    .dataframe tbody tr th:only-of-type {\n",
       "        vertical-align: middle;\n",
       "    }\n",
       "\n",
       "    .dataframe tbody tr th {\n",
       "        vertical-align: top;\n",
       "    }\n",
       "\n",
       "    .dataframe thead th {\n",
       "        text-align: right;\n",
       "    }\n",
       "</style>\n",
       "<table border=\"1\" class=\"dataframe\">\n",
       "  <thead>\n",
       "    <tr style=\"text-align: right;\">\n",
       "      <th></th>\n",
       "      <th>radiant_win</th>\n",
       "    </tr>\n",
       "    <tr>\n",
       "      <th>match_id</th>\n",
       "      <th></th>\n",
       "    </tr>\n",
       "  </thead>\n",
       "  <tbody>\n",
       "    <tr>\n",
       "      <th>6</th>\n",
       "      <td>0.822771</td>\n",
       "    </tr>\n",
       "    <tr>\n",
       "      <th>7</th>\n",
       "      <td>0.756086</td>\n",
       "    </tr>\n",
       "    <tr>\n",
       "      <th>10</th>\n",
       "      <td>0.188787</td>\n",
       "    </tr>\n",
       "  </tbody>\n",
       "</table>\n",
       "</div>"
      ],
      "text/plain": [
       "          radiant_win\n",
       "match_id             \n",
       "6            0.822771\n",
       "7            0.756086\n",
       "10           0.188787"
      ]
     },
     "execution_count": 99,
     "metadata": {},
     "output_type": "execute_result"
    }
   ],
   "source": [
    "prediction.head(3)"
   ]
  },
  {
   "cell_type": "code",
   "execution_count": 100,
   "metadata": {},
   "outputs": [],
   "source": [
    "prediction.to_csv(\"project_result.csv\")  "
   ]
  },
  {
   "cell_type": "code",
   "execution_count": null,
   "metadata": {},
   "outputs": [],
   "source": []
  }
 ],
 "metadata": {
  "kernelspec": {
   "display_name": "Python 3",
   "language": "python",
   "name": "python3"
  },
  "language_info": {
   "codemirror_mode": {
    "name": "ipython",
    "version": 3
   },
   "file_extension": ".py",
   "mimetype": "text/x-python",
   "name": "python",
   "nbconvert_exporter": "python",
   "pygments_lexer": "ipython3",
   "version": "3.7.6"
  },
  "toc": {
   "base_numbering": 1,
   "nav_menu": {
    "height": "108.50543975830078px",
    "width": "598.247314453125px"
   },
   "number_sections": true,
   "sideBar": true,
   "skip_h1_title": false,
   "title_cell": "Table of Contents",
   "title_sidebar": "Contents",
   "toc_cell": false,
   "toc_position": {},
   "toc_section_display": true,
   "toc_window_display": false
  }
 },
 "nbformat": 4,
 "nbformat_minor": 4
}
