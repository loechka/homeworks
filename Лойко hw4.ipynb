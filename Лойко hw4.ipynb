{
  "nbformat": 4,
  "nbformat_minor": 0,
  "metadata": {
    "colab": {
      "name": "Лойко hw4.ipynb",
      "provenance": []
    },
    "kernelspec": {
      "name": "python3",
      "display_name": "Python 3"
    }
  },
  "cells": [
    {
      "cell_type": "code",
      "metadata": {
        "id": "RouLkCS3CsYX",
        "colab_type": "code",
        "colab": {}
      },
      "source": [
        "# ex.1\n",
        "def fib(n):\n",
        "    if n==0 or n==1:\n",
        "        return n\n",
        "    else:\n",
        "        ans0, ans1 = 0,1\n",
        "        for i in range (2,n+1):\n",
        "            ans2 = ans0 + ans1\n",
        "            ans0 = ans1\n",
        "            ans1 = ans2\n",
        "        return ans1"
      ],
      "execution_count": 0,
      "outputs": []
    },
    {
      "cell_type": "code",
      "metadata": {
        "id": "jADllPvGCs_w",
        "colab_type": "code",
        "colab": {}
      },
      "source": [
        "print(fib(34))"
      ],
      "execution_count": 0,
      "outputs": []
    },
    {
      "cell_type": "code",
      "metadata": {
        "id": "Tafe5o59CuJh",
        "colab_type": "code",
        "colab": {}
      },
      "source": [
        "# ex.2\n",
        "import numpy as np\n",
        "def insertion(x):\n",
        "    x = np.array([[i,0] for i in x])\n",
        "    x = x.reshape(1,-1).tolist()\n",
        "    return x[0]"
      ],
      "execution_count": 0,
      "outputs": []
    },
    {
      "cell_type": "code",
      "metadata": {
        "id": "oeEjX1qgCvh9",
        "colab_type": "code",
        "colab": {}
      },
      "source": [
        "insertion([2,-15,71])"
      ],
      "execution_count": 0,
      "outputs": []
    }
  ]
}