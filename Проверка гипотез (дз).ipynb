{
  "nbformat": 4,
  "nbformat_minor": 0,
  "metadata": {
    "colab": {
      "name": "Untitled8.ipynb",
      "provenance": [],
      "authorship_tag": "ABX9TyPgRVNHABODtlHtzNOm+eWU",
      "include_colab_link": true
    },
    "kernelspec": {
      "name": "python3",
      "display_name": "Python 3"
    }
  },
  "cells": [
    {
      "cell_type": "markdown",
      "metadata": {
        "id": "view-in-github",
        "colab_type": "text"
      },
      "source": [
        "<a href=\"https://colab.research.google.com/github/loechka/homeworks/blob/master/%D0%9F%D1%80%D0%BE%D0%B2%D0%B5%D1%80%D0%BA%D0%B0%20%D0%B3%D0%B8%D0%BF%D0%BE%D1%82%D0%B5%D0%B7%20(%D0%B4%D0%B7).ipynb\" target=\"_parent\"><img src=\"https://colab.research.google.com/assets/colab-badge.svg\" alt=\"Open In Colab\"/></a>"
      ]
    },
    {
      "cell_type": "code",
      "metadata": {
        "id": "JX2gyd0RmD1A",
        "colab_type": "code",
        "colab": {
          "base_uri": "https://localhost:8080/",
          "height": 91
        },
        "outputId": "2d705601-1295-489e-8c7f-dd2b279d9a58"
      },
      "source": [
        "import numpy as np\n",
        "from statsmodels.stats.proportion import proportions_ztest\n",
        "import scipy\n",
        "import numpy as np\n",
        "import seaborn as sns\n",
        "import pandas as pd\n",
        "import matplotlib.pyplot as plt"
      ],
      "execution_count": 1,
      "outputs": [
        {
          "output_type": "stream",
          "text": [
            "/usr/local/lib/python3.6/dist-packages/statsmodels/tools/_testing.py:19: FutureWarning: pandas.util.testing is deprecated. Use the functions in the public API at pandas.testing instead.\n",
            "  import pandas.util.testing as tm\n"
          ],
          "name": "stderr"
        }
      ]
    },
    {
      "cell_type": "markdown",
      "metadata": {
        "id": "vmZsfhGGtiWt",
        "colab_type": "text"
      },
      "source": [
        "ДВУСТОРОННЯЯ ГИПОТЕЗА\n",
        "Представим, что мы испытываем лекарство против простуды. Ставится вопрос, можем ли мы сделать заявление, что лекарство одинаково предовращает простуду у мужчин, и у женщин. Для проверки этого утверждения проводится экперимент: берется случайная выборка из 150 женщин и 210 мужчин. \\\\\n",
        "H0: пропорции равны \\\\\n",
        "H1: пропорции не равны \\\\\n",
        "alfa = 0.05"
      ]
    },
    {
      "cell_type": "code",
      "metadata": {
        "id": "7C-GxgbJ5fwE",
        "colab_type": "code",
        "colab": {}
      },
      "source": [
        "alpha = 0.05"
      ],
      "execution_count": 0,
      "outputs": []
    },
    {
      "cell_type": "code",
      "metadata": {
        "id": "gnEXBidrvP7q",
        "colab_type": "code",
        "colab": {
          "base_uri": "https://localhost:8080/",
          "height": 282
        },
        "outputId": "e183265a-516a-45d5-dc0e-b1320e757c50"
      },
      "source": [
        "# показатели здоровья, на основе которых делается вывод, простудился ли человек или нет\n",
        "woman = np.random.normal(6,size = 150)\n",
        "man = np.random.normal(6.3,size = 210)\n",
        "sns.distplot(woman,color = 'pink')\n",
        "sns.distplot(man,color = 'blue')"
      ],
      "execution_count": 11,
      "outputs": [
        {
          "output_type": "execute_result",
          "data": {
            "text/plain": [
              "<matplotlib.axes._subplots.AxesSubplot at 0x7f75dc312be0>"
            ]
          },
          "metadata": {
            "tags": []
          },
          "execution_count": 11
        },
        {
          "output_type": "display_data",
          "data": {
            "image/png": "[encoded data removed]",
            "text/plain": [
              "<Figure size 432x288 with 1 Axes>"
            ]
          },
          "metadata": {
            "tags": [],
            "needs_background": "light"
          }
        }
      ]
    },
    {
      "cell_type": "code",
      "metadata": {
        "id": "3bwT1z2DxBN8",
        "colab_type": "code",
        "colab": {}
      },
      "source": [
        "# 0 - не болеет, 1 - болеет\n",
        "woman = (woman > 7).astype(int)\n",
        "man = (man > 7).astype(int)"
      ],
      "execution_count": 0,
      "outputs": []
    },
    {
      "cell_type": "code",
      "metadata": {
        "id": "SGvc5uKQyup6",
        "colab_type": "code",
        "colab": {
          "base_uri": "https://localhost:8080/",
          "height": 51
        },
        "outputId": "013dbc3c-2d6c-484c-9bbf-03802850d152"
      },
      "source": [
        "# считаем z-test ручками\n",
        "n1,n2 = 150, 210\n",
        "p_w = np.count_nonzero(woman == 1) # число заболевших женщин\n",
        "p_m = np.count_nonzero(man == 1) # число заболевших мужчин\n",
        "p1 = p_w / n1\n",
        "p2 = p_m / n2\n",
        "p = (p_w + p_m)/(n1 + n2)\n",
        "\n",
        "z_stat = (p1 - p2) / (np.sqrt(p*(1-p)*(1/n1 + 1/n2)))\n",
        "print('z_test ', z_stat)\n",
        "p_value = scipy.stats.norm.sf(abs(z_stat))*2 \n",
        "print('p_value ', p_value)"
      ],
      "execution_count": 13,
      "outputs": [
        {
          "output_type": "stream",
          "text": [
            "z_test  -2.3368143830226353\n",
            "p_value  0.019448837637412064\n"
          ],
          "name": "stdout"
        }
      ]
    },
    {
      "cell_type": "code",
      "metadata": {
        "id": "UOrgIoC4yvig",
        "colab_type": "code",
        "colab": {
          "base_uri": "https://localhost:8080/",
          "height": 51
        },
        "outputId": "941891a6-51e6-45b9-8883-d5037e0ef528"
      },
      "source": [
        "# проверим \n",
        "count = np.array([p_w, p_m])\n",
        "nobs = np.array([n1, n2])\n",
        "stat, pval = proportions_ztest(count, nobs)\n",
        "print('z_test {0:0.3f}'.format(stat))\n",
        "print('p_value {0:0.3f}'.format(pval))"
      ],
      "execution_count": 14,
      "outputs": [
        {
          "output_type": "stream",
          "text": [
            "z_test -2.337\n",
            "p_value 0.019\n"
          ],
          "name": "stdout"
        }
      ]
    },
    {
      "cell_type": "code",
      "metadata": {
        "id": "MBf2ComS0zSv",
        "colab_type": "code",
        "colab": {
          "base_uri": "https://localhost:8080/",
          "height": 34
        },
        "outputId": "6a0c8f96-e8e8-4af4-8a6a-032d3f9b5b62"
      },
      "source": [
        "# вывод\n",
        "if p_value > alpha:\n",
        "    print('Не можем отвергнуть нулевую гипотезу о том, что пропорции не имеют значимого различия')\n",
        "else:\n",
        "    print('Не можем принять нулевую гипотезу о том, что пропорции не имеют значимого различия')"
      ],
      "execution_count": 15,
      "outputs": [
        {
          "output_type": "stream",
          "text": [
            "Не можем принять нулевую гипотезу о том, что пропорции не имеют значимого различия\n"
          ],
          "name": "stdout"
        }
      ]
    },
    {
      "cell_type": "markdown",
      "metadata": {
        "id": "jEma4F5h5ya2",
        "colab_type": "text"
      },
      "source": [
        "ПРАВОСТОРОННЯЯ ГИПОТЕЗА \\\\\n",
        "Проверим, можно ли сделать заявление, что лекарство эффективнее действует на женщин, p1 - доля простудившихся женщин, p2 - доля простудившихся мужчин. \\\\\n",
        "H0: p1<p2 `женщины заражаются меньше` \\\\\n",
        "H1: p1>=p2 `женщины заражаются не меньше` \\\\"
      ]
    },
    {
      "cell_type": "code",
      "metadata": {
        "id": "SFGJvEjE5liG",
        "colab_type": "code",
        "colab": {
          "base_uri": "https://localhost:8080/",
          "height": 51
        },
        "outputId": "aeee2b4e-b067-42a0-d02c-1b7bfb1e1c65"
      },
      "source": [
        "# подсчеты аналогичные, только p_value ищется для односторонней гипотезы\n",
        "z_stat = (p1 - p2) / (np.sqrt(p*(1-p)*(1/n1 + 1/n2)))\n",
        "print('z_stat ', z_stat)\n",
        "p_value = scipy.stats.norm.sf(abs(z_stat))\n",
        "print('p_value ', p_value)"
      ],
      "execution_count": 16,
      "outputs": [
        {
          "output_type": "stream",
          "text": [
            "z_stat  -2.3368143830226353\n",
            "p_value  0.009724418818706032\n"
          ],
          "name": "stdout"
        }
      ]
    },
    {
      "cell_type": "code",
      "metadata": {
        "id": "vG9pfLJu8dip",
        "colab_type": "code",
        "colab": {
          "base_uri": "https://localhost:8080/",
          "height": 34
        },
        "outputId": "71eea394-7172-4d5a-9f9e-ba7b4de24eee"
      },
      "source": [
        "if p_value > alpha:\n",
        "    print('Не можем отвергнуть нулевую гипотезу о том, что на женщин лекарство действует эффективнее')\n",
        "else:\n",
        "    print('Не можем принять нулевую гипотезу о том, что на женщин лекарство действует эффективнее')"
      ],
      "execution_count": 17,
      "outputs": [
        {
          "output_type": "stream",
          "text": [
            "Не можем принять нулевую гипотезу о том, что на женщин лекарство действует эффективнее\n"
          ],
          "name": "stdout"
        }
      ]
    },
    {
      "cell_type": "markdown",
      "metadata": {
        "id": "B-IOtKlNA5ES",
        "colab_type": "text"
      },
      "source": [
        "Аналогичным образом с левосторнней гипотезой"
      ]
    },
    {
      "cell_type": "code",
      "metadata": {
        "id": "u1ke4Ey5-lzc",
        "colab_type": "code",
        "colab": {}
      },
      "source": [
        ""
      ],
      "execution_count": 0,
      "outputs": []
    }
  ]
}